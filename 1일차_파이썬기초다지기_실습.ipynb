{
  "cells": [
    {
      "cell_type": "markdown",
      "metadata": {
        "id": "view-in-github",
        "colab_type": "text"
      },
      "source": [
        "<a href=\"https://colab.research.google.com/github/tyra0509/jejumaster/blob/main/1%EC%9D%BC%EC%B0%A8_%ED%8C%8C%EC%9D%B4%EC%8D%AC%EA%B8%B0%EC%B4%88%EB%8B%A4%EC%A7%80%EA%B8%B0_%EC%8B%A4%EC%8A%B5.ipynb\" target=\"_parent\"><img src=\"https://colab.research.google.com/assets/colab-badge.svg\" alt=\"Open In Colab\"/></a>"
      ]
    },
    {
      "cell_type": "markdown",
      "metadata": {
        "id": "zRxHpy-28GGG"
      },
      "source": [
        "# 1일차-파이썬 기초 다지기"
      ]
    },
    {
      "cell_type": "markdown",
      "source": [
        "## 1.파이썬 이해하기"
      ],
      "metadata": {
        "id": "VRVM91mPB34V"
      }
    },
    {
      "cell_type": "markdown",
      "metadata": {
        "id": "hOwZhukd8GGK"
      },
      "source": [
        "### 1-2.파이썬 학습환경 만들기"
      ]
    },
    {
      "cell_type": "markdown",
      "metadata": {
        "id": "HAFtSTG28GGL"
      },
      "source": [
        "#### 파이썬 설치 위치 확인"
      ]
    },
    {
      "cell_type": "code",
      "execution_count": null,
      "metadata": {
        "id": "46cMOIHW8GGM"
      },
      "outputs": [],
      "source": [
        "import sys\n",
        "\n",
        "sys.executable"
      ]
    },
    {
      "cell_type": "code",
      "execution_count": null,
      "metadata": {
        "scrolled": true,
        "id": "CO9pIWvq8GGN"
      },
      "outputs": [],
      "source": [
        "print(sys.path)"
      ]
    },
    {
      "cell_type": "markdown",
      "source": [
        "### 1-3.파이썬 라이브러리 사용 방법"
      ],
      "metadata": {
        "id": "0ys111OTCLoc"
      }
    },
    {
      "cell_type": "markdown",
      "metadata": {
        "id": "5KtJAiS08GGO"
      },
      "source": [
        "#### 설치된 라이브러리 전체 확인"
      ]
    },
    {
      "cell_type": "code",
      "execution_count": null,
      "metadata": {
        "id": "0bsTdq6y8GGO"
      },
      "outputs": [],
      "source": [
        "pip list"
      ]
    },
    {
      "cell_type": "markdown",
      "metadata": {
        "id": "G_IjDeFh8GGP"
      },
      "source": [
        "#### 특정 라이브러리 설치 확인"
      ]
    },
    {
      "cell_type": "code",
      "execution_count": null,
      "metadata": {
        "id": "TqvE9YpV8GGP"
      },
      "outputs": [],
      "source": [
        "pip show numpy"
      ]
    },
    {
      "cell_type": "markdown",
      "source": [
        "#### 라이브러리 설치 및 삭제"
      ],
      "metadata": {
        "id": "KE15Fd6jCbUK"
      }
    },
    {
      "cell_type": "code",
      "source": [
        "# 라이브러리 설치\n",
        "pip install numpy\n",
        "\n",
        "# 라이브러리 삭제\n",
        "# pip uninstall numpy"
      ],
      "metadata": {
        "id": "PlG-i1fYCbdI"
      },
      "execution_count": null,
      "outputs": []
    },
    {
      "cell_type": "markdown",
      "metadata": {
        "id": "6Ef7gKpD8GGP"
      },
      "source": [
        "### 수업에 사용할 라이브러리 일부 설치하기\n",
        "(PC 윈도우 명령프롬프트에서 먼저 실행) pip를 최신으로 업그레이드한 후\n",
        "파이썬 라이브러리를 설치하도록 한다.\n",
        "- python -m pip install --upgrade pip  "
      ]
    },
    {
      "cell_type": "code",
      "execution_count": null,
      "metadata": {
        "colab": {
          "base_uri": "https://localhost:8080/"
        },
        "id": "WnEwfA_x8GGQ",
        "outputId": "776d8469-56cc-4d2b-b4f4-01ca7903c04e"
      },
      "outputs": [
        {
          "output_type": "stream",
          "name": "stdout",
          "text": [
            "Requirement already satisfied: numpy in /usr/local/lib/python3.10/dist-packages (1.23.5)\n"
          ]
        }
      ],
      "source": [
        "!pip install numpy"
      ]
    },
    {
      "cell_type": "markdown",
      "source": [
        "### 1-4.파이썬 기초 입문하기"
      ],
      "metadata": {
        "id": "KstHzAdvG1Cv"
      }
    },
    {
      "cell_type": "markdown",
      "source": [
        "#### 파이썬 오류&예외처리"
      ],
      "metadata": {
        "id": "KSNOrnoMHEjD"
      }
    },
    {
      "cell_type": "code",
      "source": [
        "# Syntax 오류 발생 예\n",
        "a = 1\n",
        "if a < 9\n",
        "    print('a < 9')"
      ],
      "metadata": {
        "colab": {
          "base_uri": "https://localhost:8080/",
          "height": 146
        },
        "id": "B8pmiTi5G8JX",
        "outputId": "aa4a046e-1567-414a-83fa-c3f958e75288"
      },
      "execution_count": null,
      "outputs": [
        {
          "output_type": "error",
          "ename": "SyntaxError",
          "evalue": "ignored",
          "traceback": [
            "\u001b[0;36m  File \u001b[0;32m\"<ipython-input-15-280c9a905a11>\"\u001b[0;36m, line \u001b[0;32m3\u001b[0m\n\u001b[0;31m    if a < 9\u001b[0m\n\u001b[0m            ^\u001b[0m\n\u001b[0;31mSyntaxError\u001b[0m\u001b[0;31m:\u001b[0m expected ':'\n"
          ]
        }
      ]
    },
    {
      "cell_type": "code",
      "source": [
        "# 오류 예외처리\n",
        "while True:\n",
        "    try:\n",
        "        x = int(input('Please enter a number: '))\n",
        "        break\n",
        "\n",
        "    except ValueError:\n",
        "        print('Oops! That was no valid number. Try again...')\n",
        "\n",
        "print('-----')"
      ],
      "metadata": {
        "colab": {
          "base_uri": "https://localhost:8080/"
        },
        "id": "GJ1Y-0wMHXJd",
        "outputId": "57eb2417-1e49-4238-e868-46c5b5959712"
      },
      "execution_count": null,
      "outputs": [
        {
          "name": "stdout",
          "output_type": "stream",
          "text": [
            "Please enter a number: s\n",
            "Oops! That was no valid number. Try again...\n",
            "Please enter a number: 1\n"
          ]
        }
      ]
    },
    {
      "cell_type": "markdown",
      "source": [
        "### [실습] 파이썬 정보 확인하기\n",
        "\n",
        "\n",
        "1.   설치된 파이썬 버전 출력하기\n",
        "2.   파이썬 실행파일 위치 출력하기\n",
        "\n"
      ],
      "metadata": {
        "id": "BVZeLUFeILol"
      }
    },
    {
      "cell_type": "code",
      "source": [
        "\n",
        "#파이썬 버전 출혁\n",
        "import sys\n",
        "print('파이썬 버전: %s '%sys.version)\n",
        "print(f'파이썬 버전:(sys.version)')\n",
        "\n",
        "#파이썬 실행파일위치\n",
        "\n",
        "import sys\n",
        "print(sys.path)\n",
        "print(sys.excutable)"
      ],
      "metadata": {
        "id": "wYTlynjPIaj4",
        "colab": {
          "base_uri": "https://localhost:8080/",
          "height": 293
        },
        "outputId": "edf8a05c-1b53-4632-cb68-6fb950ef8ab3"
      },
      "execution_count": null,
      "outputs": [
        {
          "output_type": "stream",
          "name": "stdout",
          "text": [
            "파이썬 버전: 3.10.12 (main, Jun 11 2023, 05:26:28) [GCC 11.4.0] \n",
            "파이썬 버전:(sys.version)\n",
            "['/content', '/env/python', '/usr/lib/python310.zip', '/usr/lib/python3.10', '/usr/lib/python3.10/lib-dynload', '', '/usr/local/lib/python3.10/dist-packages', '/usr/lib/python3/dist-packages', '/usr/local/lib/python3.10/dist-packages/IPython/extensions', '/root/.ipython']\n"
          ]
        },
        {
          "output_type": "error",
          "ename": "AttributeError",
          "evalue": "ignored",
          "traceback": [
            "\u001b[0;31m---------------------------------------------------------------------------\u001b[0m",
            "\u001b[0;31mAttributeError\u001b[0m                            Traceback (most recent call last)",
            "\u001b[0;32m<ipython-input-1-741bf1eb50dc>\u001b[0m in \u001b[0;36m<cell line: 10>\u001b[0;34m()\u001b[0m\n\u001b[1;32m      8\u001b[0m \u001b[0;32mimport\u001b[0m \u001b[0msys\u001b[0m\u001b[0;34m\u001b[0m\u001b[0;34m\u001b[0m\u001b[0m\n\u001b[1;32m      9\u001b[0m \u001b[0mprint\u001b[0m\u001b[0;34m(\u001b[0m\u001b[0msys\u001b[0m\u001b[0;34m.\u001b[0m\u001b[0mpath\u001b[0m\u001b[0;34m)\u001b[0m\u001b[0;34m\u001b[0m\u001b[0;34m\u001b[0m\u001b[0m\n\u001b[0;32m---> 10\u001b[0;31m \u001b[0mprint\u001b[0m\u001b[0;34m(\u001b[0m\u001b[0msys\u001b[0m\u001b[0;34m.\u001b[0m\u001b[0mexcutable\u001b[0m\u001b[0;34m)\u001b[0m\u001b[0;34m\u001b[0m\u001b[0;34m\u001b[0m\u001b[0m\n\u001b[0m",
            "\u001b[0;31mAttributeError\u001b[0m: module 'sys' has no attribute 'excutable'"
          ]
        }
      ]
    },
    {
      "cell_type": "markdown",
      "metadata": {
        "id": "wl2PYxtB8GGR"
      },
      "source": [
        "----------"
      ]
    },
    {
      "cell_type": "markdown",
      "source": [
        "## 2.파이썬 기초 다지기"
      ],
      "metadata": {
        "id": "T20_kqnwDKe2"
      }
    },
    {
      "cell_type": "markdown",
      "metadata": {
        "id": "GPQdotYg8GGR"
      },
      "source": [
        "### 2-1.파이썬 자료형과 연산자"
      ]
    },
    {
      "cell_type": "markdown",
      "source": [
        "### **[파이썬 자료형]**"
      ],
      "metadata": {
        "id": "tvdq0vw7OBaH"
      }
    },
    {
      "cell_type": "markdown",
      "source": [
        "### [실습문제]\n",
        "\n",
        "\n",
        "-  문제1: 10 + 3 x 4 결과 출력\n",
        "- 문제2: 아이폰 15대를 가지고 있다. 아이폰의 가격이 130만원 일 때 총 금액은?\n",
        "- 문제3: 주어진 자연수가 홀수인지 짝수인지 판별하는 방법은?\n",
        "- 문제4: 2x2x2x5x5x5x5x3x3x3x3을 제곱형태로 나타낸 후 그 결과 출력하기\n",
        "\n"
      ],
      "metadata": {
        "id": "0l4jT7BAI2_t"
      }
    },
    {
      "cell_type": "code",
      "source": [
        "\n",
        "\n"
      ],
      "metadata": {
        "id": "F0LQlgLkI3R2"
      },
      "execution_count": null,
      "outputs": []
    },
    {
      "cell_type": "markdown",
      "metadata": {
        "id": "rQVzLcNR8GGR"
      },
      "source": [
        "#### 파이썬 자료형 확인"
      ]
    },
    {
      "cell_type": "code",
      "execution_count": null,
      "metadata": {
        "colab": {
          "base_uri": "https://localhost:8080/"
        },
        "id": "re9ioSIM8GGR",
        "outputId": "ac0c28b3-c796-40de-b349-d6b1b8696942"
      },
      "outputs": [
        {
          "output_type": "stream",
          "name": "stdout",
          "text": [
            "123의 자료형: <class 'int'>\n",
            "123의 자료형: <class 'str'>\n",
            "[123]의 자료형: <class 'list'>\n",
            "(123,)의 자료형: <class 'tuple'>\n",
            "{'key': 123}의 자료형: <class 'dict'>\n",
            "{123}의 자료형: <class 'set'>\n",
            "True의 자료형: <class 'bool'>\n"
          ]
        }
      ],
      "source": [
        "d1 = 123\n",
        "d2 = '123'\n",
        "d3 = [123]\n",
        "d4 = (123,)\n",
        "d5 = {'key':123}\n",
        "d6 = {123}\n",
        "d7 = True\n",
        "\n",
        "print(f'{d1}의 자료형: {type(d1)}')\n",
        "print(f'{d2}의 자료형: {type(d2)}')\n",
        "print(f'{d3}의 자료형: {type(d3)}')\n",
        "print(f'{d4}의 자료형: {type(d4)}')\n",
        "print(f'{d5}의 자료형: {type(d5)}')\n",
        "print(f'{d6}의 자료형: {type(d6)}')\n",
        "print(f'{d7}의 자료형: {type(d7)}')"
      ]
    },
    {
      "cell_type": "code",
      "execution_count": null,
      "metadata": {
        "scrolled": true,
        "id": "gbzIvlUi8GGR"
      },
      "outputs": [],
      "source": [
        "datas = [123,'123',[123],(123,),{'key':123},{123},True]\n",
        "\n",
        "for d in datas:\n",
        "         print(f\"데이터 '{d}' 의 자료형: {type(d)}\")"
      ]
    },
    {
      "cell_type": "markdown",
      "metadata": {
        "id": "EDFiaZyv8GGR"
      },
      "source": [
        "#### 실습문제\n",
        "두 수를 입력 받아 덧셈, 뺄셈, 곱셈, 몫, 나머지를 출력하는 프로그램을 작성하세요\n"
      ]
    },
    {
      "cell_type": "code",
      "execution_count": null,
      "metadata": {
        "scrolled": true,
        "id": "a9sG7Q738GGS",
        "colab": {
          "base_uri": "https://localhost:8080/"
        },
        "outputId": "7589940a-25b0-4f83-fe83-476fe763163c"
      },
      "outputs": [
        {
          "output_type": "stream",
          "name": "stdout",
          "text": [
            "3\n",
            "5\n",
            "덧셈: 3+5=8\n",
            "뺄셈: 3-5=-2\n",
            "곱셈: 3*5=15\n",
            "몫: 3//5=0\n",
            "나머지: 3%5=3\n"
          ]
        }
      ],
      "source": [
        "\n",
        "x=int(input())\n",
        "y=int(input())\n",
        "print(f'덧셈: {x}+{y}={x+y}')\n",
        "print(f'뺄셈: {x}-{y}={x-y}')\n",
        "print(f'곱셈: {x}*{y}={x*y}')\n",
        "print(f'몫: {x}//{y}={x//y}')\n",
        "print(f'나머지: {x}%{y}={x%y}')\n",
        "\n"
      ]
    },
    {
      "cell_type": "markdown",
      "metadata": {
        "id": "LqAbyRHs8GGS"
      },
      "source": [
        "#### 실습문제 :  시간 계산 프로그램\n",
        "속력과 거리를 입력 받아 시간을 계산하여 출력하는 프로그램을 만드세요!\n",
        "- 시간 = 거리 / 속력\n",
        "\n"
      ]
    },
    {
      "cell_type": "code",
      "execution_count": null,
      "metadata": {
        "id": "YwepfYt98GGS"
      },
      "outputs": [],
      "source": [
        "velocity = input('속력를 입력해 주세요(km/h) : ')\n",
        "distance = input('거리를 입력해 주세요(km) : ')\n",
        "\n",
        "\n"
      ]
    },
    {
      "cell_type": "markdown",
      "source": [
        "- eval()함수 사용하여 문자열을 계산할 수 있다"
      ],
      "metadata": {
        "id": "sHIxGA0xLj0C"
      }
    },
    {
      "cell_type": "code",
      "execution_count": null,
      "metadata": {
        "id": "gvVxuLjX8GGS",
        "colab": {
          "base_uri": "https://localhost:8080/"
        },
        "outputId": "70d630a2-05ea-497f-f891-2a1488210640"
      },
      "outputs": [
        {
          "output_type": "stream",
          "name": "stdout",
          "text": [
            "3.4\n"
          ]
        }
      ],
      "source": [
        "# eval()함수 사용\n",
        "time = eval(f'{distance} / {velocity}')\n",
        "print(time)"
      ]
    },
    {
      "cell_type": "markdown",
      "metadata": {
        "id": "tECEWKan8GGS"
      },
      "source": [
        "#### 실습문제 : 정수 합 구하기\n",
        "아래와 같이 정수 n을 입력 받아, a + aa + aaa의 결과 값을 구하는 프로그램을 작성하세요"
      ]
    },
    {
      "cell_type": "code",
      "execution_count": null,
      "metadata": {
        "scrolled": true,
        "id": "a04GPnn98GGS",
        "colab": {
          "base_uri": "https://localhost:8080/",
          "height": 255
        },
        "outputId": "47b8ee0d-44bc-44cb-d1f2-1216012b3417"
      },
      "outputs": [
        {
          "name": "stdout",
          "output_type": "stream",
          "text": [
            "숫자 입력:3\n"
          ]
        },
        {
          "output_type": "error",
          "ename": "NameError",
          "evalue": "ignored",
          "traceback": [
            "\u001b[0;31m---------------------------------------------------------------------------\u001b[0m",
            "\u001b[0;31mNameError\u001b[0m                                 Traceback (most recent call last)",
            "\u001b[0;32m<ipython-input-13-dec6b06d7f82>\u001b[0m in \u001b[0;36m<cell line: 2>\u001b[0;34m()\u001b[0m\n\u001b[1;32m      1\u001b[0m \u001b[0ma\u001b[0m\u001b[0;34m=\u001b[0m \u001b[0minput\u001b[0m\u001b[0;34m(\u001b[0m\u001b[0;34m'숫자 입력:'\u001b[0m\u001b[0;34m)\u001b[0m\u001b[0;34m\u001b[0m\u001b[0;34m\u001b[0m\u001b[0m\n\u001b[0;32m----> 2\u001b[0;31m \u001b[0mvalue\u001b[0m \u001b[0;34m=\u001b[0m \u001b[0;34mf'{a}+{aa}+{aaa}'\u001b[0m\u001b[0;34m\u001b[0m\u001b[0;34m\u001b[0m\u001b[0m\n\u001b[0m\u001b[1;32m      3\u001b[0m \u001b[0mprint\u001b[0m\u001b[0;34m(\u001b[0m\u001b[0;34mf\"{value}={eval(f'{a}+{aa}+{aaa}')}\"\u001b[0m\u001b[0;34m)\u001b[0m\u001b[0;34m\u001b[0m\u001b[0;34m\u001b[0m\u001b[0m\n\u001b[1;32m      4\u001b[0m \u001b[0;34m\u001b[0m\u001b[0m\n",
            "\u001b[0;31mNameError\u001b[0m: name 'aa' is not defined"
          ]
        }
      ],
      "source": [
        "a= input('숫자 입력:')\n",
        "value = f'{a}+{aa}+{aaa}'\n",
        "print(f\"{value}={eval(f'{a}+{aa}+{aaa}')}\")\n",
        "\n"
      ]
    },
    {
      "cell_type": "code",
      "source": [
        "a = input('숫자 하나를 입력하세요: ')\n",
        "print(f\"{a}+{aa}+{aaa} = {eval(f'{a}+{aa}+{aaa}')}\")\n",
        "# value = f'{a}+{aa}+{aaa}'\n",
        "# print(f\"{value} = {eval(value)}\")"
      ],
      "metadata": {
        "id": "Xxd_pu9Sm89O"
      },
      "execution_count": null,
      "outputs": []
    },
    {
      "cell_type": "markdown",
      "source": [
        "#### 내장 수학 함수\n",
        "- 파이썬 내장 함수 https://docs.python.org/ko/3.10/library/functions.html"
      ],
      "metadata": {
        "id": "fCTCbmTxM-me"
      }
    },
    {
      "cell_type": "code",
      "source": [
        "import math\n",
        "\n",
        "print(f'원주율: {math.pi}')\n",
        "print(f'절대값: {abs(-10)}')\n",
        "print(f'반올림: {round(1.791, 2)}')\n",
        "print(f'올림  : {math.ceil(1.7)}')\n",
        "print(f'내림  : {math.floor(1.7)}')\n",
        "print(f'제곱  : {math.pow(2, 10)}')\n",
        "print(f'제곱근: {math.sqrt(4)}')\n",
        "print(f'로그  : {math.log(10) }')"
      ],
      "metadata": {
        "colab": {
          "base_uri": "https://localhost:8080/"
        },
        "id": "6Edr-y4FNAzY",
        "outputId": "3e3ee2bd-7f59-43dd-cca1-e75238cb6a42"
      },
      "execution_count": null,
      "outputs": [
        {
          "output_type": "stream",
          "name": "stdout",
          "text": [
            "원주율: 3.141592653589793\n",
            "절대값: 10\n",
            "반올림: 1.79\n",
            "올림  : 2\n",
            "내림  : 1\n",
            "제곱  : 1024.0\n",
            "제곱근: 2.0\n",
            "로그  : 2.302585092994046\n"
          ]
        }
      ]
    },
    {
      "cell_type": "markdown",
      "source": [
        "### [실습문제] : 수학 함수 사용하기\n",
        "- 문제1: 반지름이 4인 원의 넓이 출력\n",
        "- 문제2: 3.14 곱하가 2 나누기 7의 값을 반올림하여 계산 결과 출력\n",
        "- 문제3: 원주율을 3.14로 만들어서 반지름이 4인 원의 둘레의 길이 출력"
      ],
      "metadata": {
        "id": "aW7za8RUNErb"
      }
    },
    {
      "cell_type": "code",
      "source": [
        "\n",
        "\n"
      ],
      "metadata": {
        "id": "wdpC3giLNOhp"
      },
      "execution_count": null,
      "outputs": []
    },
    {
      "cell_type": "markdown",
      "metadata": {
        "id": "em_gXIiP8GGT"
      },
      "source": [
        "-----"
      ]
    },
    {
      "cell_type": "markdown",
      "source": [
        "### **[문자와 문자열]**"
      ],
      "metadata": {
        "id": "_AgpChJ_Ntbt"
      }
    },
    {
      "cell_type": "markdown",
      "source": [
        "#### 문자와 문자열 변환"
      ],
      "metadata": {
        "id": "hCBT7HywOk5c"
      }
    },
    {
      "cell_type": "code",
      "source": [
        "# 문자 --> 숫자(정수) 로 변환 : ord() 함수 사용\n",
        "print( ord('A') )\n",
        "print( ord('!') )\n",
        "print( ord('가') )"
      ],
      "metadata": {
        "id": "D1WbhodqOrVN"
      },
      "execution_count": null,
      "outputs": []
    },
    {
      "cell_type": "code",
      "source": [
        "# 숫자(정수) --> 문자 로 변환 : chr() 함수 사용\n",
        "print( chr(65) )\n",
        "print( chr(66) )\n",
        "print( chr(97) )\n",
        "print( chr(98) )\n",
        "print( chr(44032) )\n",
        "print( chr(44033) )"
      ],
      "metadata": {
        "id": "xS6nc_-XOw9X"
      },
      "execution_count": null,
      "outputs": []
    },
    {
      "cell_type": "code",
      "source": [
        "# 문자 --> 숫자 --> 이진수 로 변환\n",
        "for c in '파이썬':\n",
        "    숫자변환 = ord(c)              # unicode\n",
        "    이진수변환 = bin(숫자변환)     # 16진수 binarycode\n",
        "    print( 이진수변환, end = ' ')  # 한 줄로 표현하기"
      ],
      "metadata": {
        "id": "_gesbU8AOzJ_"
      },
      "execution_count": null,
      "outputs": []
    },
    {
      "cell_type": "code",
      "source": [
        "for c in '파이썬':\n",
        "    # 이진수에서 앞'0b'를 없애기 위해 format() 함수 사용할 수 있다.\n",
        "    print( format(ord(c), 'b'), end = ' ')  # 한 줄로 표현하기"
      ],
      "metadata": {
        "id": "ZQyZdBeSOzrE"
      },
      "execution_count": null,
      "outputs": []
    },
    {
      "cell_type": "markdown",
      "source": [
        "#### 문자열 따옴표로 지정"
      ],
      "metadata": {
        "id": "xpJdl4QwO55X"
      }
    },
    {
      "cell_type": "code",
      "source": [
        "# 큰 따옴표 or 작은 따옴표로 지정한다\n",
        "print('Hello')\n",
        "print(\"Hello\")\n",
        "print(\"Hello 'world\")\n",
        "print('Hello \"world')\n",
        "print(' \"Yes, I can!\" ')"
      ],
      "metadata": {
        "id": "zl_C1UOnPC8k"
      },
      "execution_count": null,
      "outputs": []
    },
    {
      "cell_type": "code",
      "source": [
        "#따옴표 세 개 사용 : 여러 줄로 표현할 때\n",
        "a = '''박씨가 소리질렀다.\n",
        "도둑이야!'''\n",
        "print(a)"
      ],
      "metadata": {
        "id": "P3Q6389qPDW6"
      },
      "execution_count": null,
      "outputs": []
    },
    {
      "cell_type": "code",
      "source": [
        "menu = '''OOO카페 메뉴판\n",
        "- 아메리카노:  3000원\n",
        "- 카페라테:     4000원\n",
        "- 카페모카:     5000원'''\n",
        "print(menu)\n",
        "coffee = input('주문하실 음료를 입력하세요(ex:아메리카노) => ')\n",
        "cup = input(f'{coffee} 몇 잔을 주문하시겠습니까?: ')\n",
        "\n",
        "print(f'주문하신 음료는 {coffee} {cup} 잔 입니다.')"
      ],
      "metadata": {
        "id": "ZNImZioTPMTF"
      },
      "execution_count": null,
      "outputs": []
    },
    {
      "cell_type": "markdown",
      "source": [
        "#### 문자열 연산\n",
        "- (+): 문자열 연결하기\n",
        "- (*) : 반복의 의미"
      ],
      "metadata": {
        "id": "0hueAcbNczkD"
      }
    },
    {
      "cell_type": "code",
      "source": [
        "# 문자열 연결하기\n",
        "print('Hello'+'world')\n",
        "print('Hello','world', '!')\n",
        "\n",
        "a = \"Python\"\n",
        "b = \" is very fun!\"\n",
        "print(a+b)"
      ],
      "metadata": {
        "id": "Z5KLgMT3c5kA"
      },
      "execution_count": null,
      "outputs": []
    },
    {
      "cell_type": "code",
      "source": [
        "# 반복의 의미\n",
        "print('Hello'*3)\n",
        "print('-' * 30)"
      ],
      "metadata": {
        "id": "3CNBVzLJc53l"
      },
      "execution_count": null,
      "outputs": []
    },
    {
      "cell_type": "markdown",
      "source": [
        "### 실습문제 : 문자열 출력하기\n",
        "- 문제1: 화면에   Mary’s cosmetics   출력\n",
        "- 문제2: 화면에  박씨가 소리질렀다. “도둑이야!”.  출력\n",
        "- 문제3: 다음 코드 실행시켜서 \\t와 \\n의 역할 확인하기 <br>\n",
        "print(\"안녕하세요.\\n오늘\\t날씨가\\t\\t좋습니다.\")"
      ],
      "metadata": {
        "id": "zGFtY_D1ckjy"
      }
    },
    {
      "cell_type": "code",
      "source": [
        "print(\"Marr's cosmetics\")\n",
        "print('박씨가 소리질렀다. \"도둑이야!.\"')\n",
        "print(\"안녕하세요.\\n오늘\\t날씨가\\t\\t좋습니다.\")"
      ],
      "metadata": {
        "id": "zZAO6RHWpCQ6",
        "colab": {
          "base_uri": "https://localhost:8080/"
        },
        "outputId": "1bc90f88-5a5e-4490-8d99-e5b85f21c46d"
      },
      "execution_count": null,
      "outputs": [
        {
          "output_type": "stream",
          "name": "stdout",
          "text": [
            "Marr's cosmetics\n",
            "박씨가 소리질렀다. \"도둑이야!.\"\n",
            "안녕하세요.\n",
            "오늘\t날씨가\t\t좋습니다.\n"
          ]
        }
      ]
    },
    {
      "cell_type": "markdown",
      "source": [
        "### 실습문제 :  구글TTS(gTTS) 사용하여 음성 출력하기"
      ],
      "metadata": {
        "id": "Hb6l5EjLQB2m"
      }
    },
    {
      "cell_type": "code",
      "source": [
        "# 구글 tts 프로그램\n",
        "!pip install gTTS"
      ],
      "metadata": {
        "id": "-eY--f6MPwTf",
        "colab": {
          "base_uri": "https://localhost:8080/"
        },
        "outputId": "dbdea4c8-c825-4cb7-b509-1b96358192de"
      },
      "execution_count": null,
      "outputs": [
        {
          "output_type": "stream",
          "name": "stdout",
          "text": [
            "Collecting gTTS\n",
            "  Downloading gTTS-2.4.0-py3-none-any.whl (29 kB)\n",
            "Requirement already satisfied: requests<3,>=2.27 in /usr/local/lib/python3.10/dist-packages (from gTTS) (2.31.0)\n",
            "Requirement already satisfied: click<8.2,>=7.1 in /usr/local/lib/python3.10/dist-packages (from gTTS) (8.1.7)\n",
            "Requirement already satisfied: charset-normalizer<4,>=2 in /usr/local/lib/python3.10/dist-packages (from requests<3,>=2.27->gTTS) (3.3.0)\n",
            "Requirement already satisfied: idna<4,>=2.5 in /usr/local/lib/python3.10/dist-packages (from requests<3,>=2.27->gTTS) (3.4)\n",
            "Requirement already satisfied: urllib3<3,>=1.21.1 in /usr/local/lib/python3.10/dist-packages (from requests<3,>=2.27->gTTS) (2.0.6)\n",
            "Requirement already satisfied: certifi>=2017.4.17 in /usr/local/lib/python3.10/dist-packages (from requests<3,>=2.27->gTTS) (2023.7.22)\n",
            "Installing collected packages: gTTS\n",
            "Successfully installed gTTS-2.4.0\n"
          ]
        }
      ]
    },
    {
      "cell_type": "code",
      "source": [
        "# 영어 출력\n",
        "from gtts import gTTS\n",
        "from IPython.display import Audio\n",
        "\n",
        "eng_wav = gTTS('Hello World!')\n",
        "eng_wav.save('eng.wav')\n",
        "\n",
        "display(Audio('eng.wav', autoplay=True))"
      ],
      "metadata": {
        "id": "O_xqpl0pPx6k",
        "colab": {
          "base_uri": "https://localhost:8080/",
          "height": 74
        },
        "outputId": "c016fd66-375f-4701-f660-f71621645c3c"
      },
      "execution_count": null,
      "outputs": [
        {
          "output_type": "display_data",
          "data": {
            "text/plain": [
              "<IPython.lib.display.Audio object>"
            ],
            "text/html": [
              "\n",
              "                <audio  controls=\"controls\" autoplay=\"autoplay\">\n",
              "                    <source src=\"data:audio/x-wav;base64,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\" type=\"audio/x-wav\" />\n",
              "                    Your browser does not support the audio element.\n",
              "                </audio>\n",
              "              "
            ]
          },
          "metadata": {}
        }
      ]
    },
    {
      "cell_type": "code",
      "source": [
        "# 한글 출력\n",
        "from gtts import gTTS\n",
        "from IPython.display import Audio\n",
        "\n",
        "kor_wav = gTTS('안녕하세요! ', lang = 'ko')\n",
        "kor_wav.save('kor.wav')\n",
        "\n",
        "display(Audio('kor.wav', autoplay=True))"
      ],
      "metadata": {
        "id": "inyZATWlP3Cp",
        "colab": {
          "base_uri": "https://localhost:8080/",
          "height": 74
        },
        "outputId": "4edc9d67-8990-4267-80c8-dbe033629fa0"
      },
      "execution_count": null,
      "outputs": [
        {
          "output_type": "display_data",
          "data": {
            "text/plain": [
              "<IPython.lib.display.Audio object>"
            ],
            "text/html": [
              "\n",
              "                <audio  controls=\"controls\" autoplay=\"autoplay\">\n",
              "                    <source src=\"data:audio/x-wav;base64,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\" type=\"audio/x-wav\" />\n",
              "                    Your browser does not support the audio element.\n",
              "                </audio>\n",
              "              "
            ]
          },
          "metadata": {}
        }
      ]
    },
    {
      "cell_type": "markdown",
      "source": [
        "### 실습문제 :  파일 읽어 음성으로 출력하기"
      ],
      "metadata": {
        "id": "A5onlk2_pJnX"
      }
    },
    {
      "cell_type": "code",
      "source": [
        "# 파일 읽기\n",
        "\n",
        "from gtts import gTTS\n",
        "from IPython.display import Audio\n",
        "\n",
        "with open(\"./오감도.txt\", 'r') as f:\n",
        "    s= f.read()\n",
        "    print(s)\n",
        "\n",
        "kor_wav = gTTS(s, lang = 'ko')\n",
        "kor_wav.save('kor.wav')\n",
        "\n",
        "display(Audio('kor.wav', autoplay=True))\n",
        "\n"
      ],
      "metadata": {
        "id": "LL9LBIfPUS1-",
        "colab": {
          "base_uri": "https://localhost:8080/",
          "height": 564
        },
        "outputId": "e7213cb3-ca34-44a5-9369-1dd53f603a66"
      },
      "execution_count": null,
      "outputs": [
        {
          "output_type": "stream",
          "name": "stdout",
          "text": [
            "13인의 아해가 도로로 질주하오.\n",
            "(같은 막다른 골목이 적당하오.)\n",
            "\n",
            "\n",
            "제 1의 아해가 무섭다고 그리오.\n",
            "제 2의 아해가 무섭다고 그리오.\n",
            "제 3의 아해가 무섭다고 그리오.\n",
            "제 4의 아해가 무섭다고 그리오.\n",
            "제 5의 아해가 무섭다고 그리오.\n",
            "제 6의 아해가 무섭다고 그리오.\n",
            "제 7의 아해가 무섭다고 그리오.\n",
            "제 8의 아해가 무섭다고 그리오.\n",
            "제 9의 아해가 무섭다고 그리오.\n",
            "제 10의 아해가 무섭다고 그리오.\n",
            "\n",
            "제 11의 아해가 무섭다고 그리오.\n",
            "제 12의 아해가 무섭다고 그리오.\n",
            "제 13의 아해가 무섭다고 그리오.\n",
            "십삼인의 아해는 무서운 아해와 무서워하는 아해와 그렇게 뿐이 모였소. (다른 사람은 없는 것이 차라리 나았소)\n",
            "\n",
            "그 중에 1인의 아해가 무서운 아해라도 좋소.\n",
            "그 중에 2인의 아해가 무서운 아해라도 좋소.\n",
            "그 중에 2인의 아해가 무서워하는 아해라도 좋소.\n",
            "그 중에 1인의 아해가 무서워하는 아해라도 좋소.\n",
            "\n",
            "(길은 뚫린 골목이라도 적당하오.)\n",
            "13인의 아해가 도로로 질주하지 아니하여도 좋소.\n"
          ]
        },
        {
          "output_type": "display_data",
          "data": {
            "text/plain": [
              "<IPython.lib.display.Audio object>"
            ],
            "text/html": [
              "\n",
              "                <audio  controls=\"controls\" autoplay=\"autoplay\">\n",
              "                    <source src=\"data:audio/x-wav;base64,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\" type=\"audio/x-wav\" />\n",
              "                    Your browser does not support the audio element.\n",
              "                </audio>\n",
              "              "
            ]
          },
          "metadata": {}
        }
      ]
    },
    {
      "cell_type": "markdown",
      "metadata": {
        "id": "xPW5SM108GGT"
      },
      "source": [
        "### **[문자열 인덱싱과 슬레이싱]**"
      ]
    },
    {
      "cell_type": "code",
      "source": [
        "a = '우리는 민족중흥의 역사적 사명을 띠고 이 땅에 태어났다.'\n",
        "print(a[3:12] )\n",
        "\n",
        "fruits = 'orange'\n",
        "print(fruits[1:3])"
      ],
      "metadata": {
        "id": "SNAFf0-FPTUO"
      },
      "execution_count": null,
      "outputs": []
    },
    {
      "cell_type": "markdown",
      "metadata": {
        "id": "GdjCIoKx8GGT"
      },
      "source": [
        "### 실습문제 : 문자열 거꾸로 출력하기\n",
        "\n",
        "문자열을 입력 받아 거꾸로 출력하는 프로그램을 작성하세요"
      ]
    },
    {
      "cell_type": "code",
      "execution_count": null,
      "metadata": {
        "scrolled": true,
        "id": "xo-ZBQiO8GGT",
        "colab": {
          "base_uri": "https://localhost:8080/"
        },
        "outputId": "2d4ab82b-35a0-4f93-e541-4170bc623a00"
      },
      "outputs": [
        {
          "output_type": "stream",
          "name": "stdout",
          "text": [
            "문자열을 입력하세요.:안녕하세요\n",
            "거꾸로 출력:요세하녕안\n"
          ]
        }
      ],
      "source": [
        "s= input('문자열을 입력하세요.:')\n",
        "\n",
        "print(f'거꾸로 출력:{s[::-1]}')\n",
        "\n",
        "\n"
      ]
    },
    {
      "cell_type": "markdown",
      "source": [
        "### 실습문제 : 파일명.확장자명 분리하기"
      ],
      "metadata": {
        "id": "PZghIVpIdg-c"
      }
    },
    {
      "cell_type": "code",
      "source": [
        "a = input('확장자가 포함된 파일명을 입력하세요: ')\n",
        "\n",
        "\n"
      ],
      "metadata": {
        "id": "o3CvgoVJdhN0"
      },
      "execution_count": null,
      "outputs": []
    },
    {
      "cell_type": "markdown",
      "source": [
        "### **[변수 활용]**"
      ],
      "metadata": {
        "id": "OSn4MTyNeVJU"
      }
    },
    {
      "cell_type": "markdown",
      "metadata": {
        "id": "3jnglF5x8GGU"
      },
      "source": [
        "#### 실습문제 : 지불할 음식 총 가격 계산하\n",
        "- 음식가격:  4,450 원\n",
        "- 세금: 6.75%\n",
        "- 팁: 15%\n",
        "1. meal 변수를 선언하고 값을 4450으로 지정하세요.\n",
        "2. tax 변수를 생성하고 값으로 6.75%를 소수점 형태로 지정하세요.\n",
        "3. tip 변수를 생성하고 값으로 15%를 소수점 형태로 지정하세요.\n",
        "4. meal의 변수값에 세금을 곱해 meal 변수에 지정하세요.\n",
        "5. 음식값에 tip을 더해 total 변수에 지정하세요.\n",
        "6. total 변수 값을 출력하세요."
      ]
    },
    {
      "cell_type": "code",
      "execution_count": null,
      "metadata": {
        "id": "-us6IUf28GGU",
        "colab": {
          "base_uri": "https://localhost:8080/"
        },
        "outputId": "5c9fa057-c76d-4efc-c5dc-82440d3ab5fc"
      },
      "outputs": [
        {
          "output_type": "stream",
          "name": "stdout",
          "text": [
            "4750.525\n"
          ]
        }
      ],
      "source": [
        "meal = 4450\n",
        "tax = 0.0675\n",
        "tip = 0.15\n",
        "\n",
        "meal= meal+ meal* tax\n",
        "total= meal + tip\n",
        "print(total)\n",
        "\n"
      ]
    },
    {
      "cell_type": "code",
      "source": [
        "meal, tax, tip = 4450, 0.0675, 0.15\n",
        "tax = meal *tax\n",
        "meal = meal+tax\n",
        "tip = meal* tip\n",
        "total = meal+ tip\n",
        "\n",
        "print(f'세금: {tax}')\n",
        "print(f'세금포함 음식값: {meal}')\n",
        "print(f'팁: {tip}')\n",
        "print(f'총: {total}')"
      ],
      "metadata": {
        "colab": {
          "base_uri": "https://localhost:8080/"
        },
        "id": "NJ9Cd3MLCt92",
        "outputId": "d2fec5a6-ab85-4eff-a0b2-821f3de81b32"
      },
      "execution_count": null,
      "outputs": [
        {
          "output_type": "stream",
          "name": "stdout",
          "text": [
            "세금: 300.375\n",
            "세금포함 음식값: 4750.375\n",
            "팁: 712.55625\n",
            "총: 5462.93125\n"
          ]
        }
      ]
    },
    {
      "cell_type": "markdown",
      "source": [
        "### 실습문제 : 섭씨온도를 화씨온도로 변환하기\n",
        "- 섭씨 온도 (Celsius): 1 atm에서의 물의 어는점을 0도, 끓는점을 100도로 정한 온도 체계. (°C)\n",
        "- 화씨 온도 (Fahrenheit): 물이 어는 온도는 32도, 물이 끓는 온도는 212도. 180등분. (°F)\n",
        "- 섭씨온도(℃) = (5 / 9) × (℉ - 32)  # Celsius\n",
        "- 화씨온도(℉) = (9 / 5) × ℃ + 32    # Fahrenheit"
      ],
      "metadata": {
        "id": "Csltm-dLetMB"
      }
    },
    {
      "cell_type": "code",
      "execution_count": null,
      "metadata": {
        "id": "3GZB3ozk8GGU"
      },
      "outputs": [],
      "source": [
        "\n",
        "\n"
      ]
    },
    {
      "cell_type": "markdown",
      "metadata": {
        "id": "3UTLuSAp8GGY"
      },
      "source": [
        "--------"
      ]
    },
    {
      "cell_type": "markdown",
      "metadata": {
        "id": "fmU7O8WS8GGY"
      },
      "source": [
        "### **[연산자]**"
      ]
    },
    {
      "cell_type": "markdown",
      "metadata": {
        "id": "eRCyhgwS8GGY"
      },
      "source": [
        "#### 실습문제 :  동전 교환 프로그램\n",
        "동전교환 프로그램을 작성하세요"
      ]
    },
    {
      "cell_type": "code",
      "execution_count": null,
      "metadata": {
        "id": "g8A7ErL78GGY",
        "colab": {
          "base_uri": "https://localhost:8080/"
        },
        "outputId": "ec9045bd-6a1f-4d50-8147-4be2fa3b5a02"
      },
      "outputs": [
        {
          "output_type": "stream",
          "name": "stdout",
          "text": [
            "동전으로 교환할 금액4321\n",
            "8 3 0 2\n"
          ]
        }
      ],
      "source": [
        "money = int(input('동전으로 교환할 금액'))\n",
        "\n",
        "a=money//500\n",
        "b=money%500//100\n",
        "c=money%500%100//50\n",
        "d=money%500%100%50//10\n",
        "print(a,b,c,d)\n"
      ]
    },
    {
      "cell_type": "code",
      "source": [
        "money = input('동전으로 교환할 금액을 입력하세요: ')\n",
        "print('-'*50)\n",
        "print(f'500원짜리    ==> {int(money)//500} 개')\n",
        "money = int(money) % 500\n",
        "print(f'100원짜리    ==> {money//100} 개')\n",
        "money %= 100   # money = money % 100\n",
        "print(f'50원짜리    ==> {money//50} 개')\n",
        "money %= 50\n",
        "print(f'10원짜리    ==> {money//10} 개')\n",
        "money %= 10\n",
        "print(f'잔돈        ==> {money} 원')"
      ],
      "metadata": {
        "colab": {
          "base_uri": "https://localhost:8080/"
        },
        "id": "7vIIFaYNLo0q",
        "outputId": "56d2e430-ea03-4251-b7aa-60d2332d9917"
      },
      "execution_count": null,
      "outputs": [
        {
          "output_type": "stream",
          "name": "stdout",
          "text": [
            "동전으로 교환할 금액을 입력하세요: 4321\n",
            "--------------------------------------------------\n",
            "500원짜리    ==> 8 개\n",
            "100원짜리    ==> 3 개\n",
            "50원짜리    ==> 0 개\n",
            "10원짜리    ==> 2 개\n",
            "잔돈        ==> 1 원\n"
          ]
        }
      ]
    },
    {
      "cell_type": "markdown",
      "metadata": {
        "id": "rCYXIs248GGY"
      },
      "source": [
        "### **[리스트]**"
      ]
    },
    {
      "cell_type": "markdown",
      "source": [
        "- 리스트는 여러 개의 데이터 값을 하나의 변수에 담을 수 있는 데이터 구조\n",
        "- 리스트는 순서(인덱스)가 있고 데이터를 수정, 삭제, 추가 가능하다.\n",
        "- 대괄호로 표현되고 내부 원소는 ,(쉼표)로 구분됨\n",
        "\n",
        "**리스트 생성 & 삭제**"
      ],
      "metadata": {
        "id": "YumGEyjSfPXF"
      }
    },
    {
      "cell_type": "code",
      "source": [
        "a = list()\n",
        "a = []\n",
        "a = [1,2,3]\n",
        "a = ['I', 'Love', 'Python']\n",
        "b = [1,2, '사랑해요', 'Python']\n",
        "b = ['a', '1', 1, [2,3], -4]\n",
        "a = [1,2,['a','b',['사랑해', '파이썬']], 3]\n",
        "print(a)\n",
        "print(b)\n",
        "\n",
        "# 리스트 삭제\n",
        "del(b)\n",
        "\n",
        "print(a)\n",
        "print(b)"
      ],
      "metadata": {
        "id": "7fDp5hT0fhEx",
        "colab": {
          "base_uri": "https://localhost:8080/",
          "height": 273
        },
        "outputId": "3e9c17f6-9c7a-41bb-ac02-d5202bd36f84"
      },
      "execution_count": null,
      "outputs": [
        {
          "output_type": "stream",
          "name": "stdout",
          "text": [
            "[1, 2, ['a', 'b', ['사랑해', '파이썬']], 3]\n",
            "['a', '1', 1, [2, 3], -4]\n",
            "[1, 2, ['a', 'b', ['사랑해', '파이썬']], 3]\n"
          ]
        },
        {
          "output_type": "error",
          "ename": "NameError",
          "evalue": "ignored",
          "traceback": [
            "\u001b[0;31m---------------------------------------------------------------------------\u001b[0m",
            "\u001b[0;31mNameError\u001b[0m                                 Traceback (most recent call last)",
            "\u001b[0;32m<ipython-input-48-95865b524456>\u001b[0m in \u001b[0;36m<cell line: 15>\u001b[0;34m()\u001b[0m\n\u001b[1;32m     13\u001b[0m \u001b[0;34m\u001b[0m\u001b[0m\n\u001b[1;32m     14\u001b[0m \u001b[0mprint\u001b[0m\u001b[0;34m(\u001b[0m\u001b[0ma\u001b[0m\u001b[0;34m)\u001b[0m\u001b[0;34m\u001b[0m\u001b[0;34m\u001b[0m\u001b[0m\n\u001b[0;32m---> 15\u001b[0;31m \u001b[0mprint\u001b[0m\u001b[0;34m(\u001b[0m\u001b[0mb\u001b[0m\u001b[0;34m)\u001b[0m\u001b[0;34m\u001b[0m\u001b[0;34m\u001b[0m\u001b[0m\n\u001b[0m",
            "\u001b[0;31mNameError\u001b[0m: name 'b' is not defined"
          ]
        }
      ]
    },
    {
      "cell_type": "markdown",
      "source": [
        "**리스트 요소에 접근**"
      ],
      "metadata": {
        "id": "ZDNnr2DrfhbC"
      }
    },
    {
      "cell_type": "code",
      "source": [
        "print( a[1] )\n",
        "print( a[2] )\n",
        "print( a[2][1] )\n",
        "# '파이썬'을 출력하려면?\n",
        "print(a[2][2][1])"
      ],
      "metadata": {
        "id": "dE18h8OHfhzH",
        "colab": {
          "base_uri": "https://localhost:8080/"
        },
        "outputId": "0cbb01d8-4bae-4645-83d0-2aa5481220d7"
      },
      "execution_count": null,
      "outputs": [
        {
          "output_type": "stream",
          "name": "stdout",
          "text": [
            "2\n",
            "['a', 'b', ['사랑해', '파이썬']]\n",
            "b\n",
            "파이썬\n"
          ]
        }
      ]
    },
    {
      "cell_type": "markdown",
      "source": [
        "**리스트 요소 추가 / 변경**"
      ],
      "metadata": {
        "id": "CBiv_U9vfh9l"
      }
    },
    {
      "cell_type": "code",
      "source": [
        "print(a)\n",
        "a.append('봄')     # 리스트 맨 끝에 추가\n",
        "print(a)\n",
        "# a.insert(1, '봄')  # 리스트명.insert(인덱스위치, 값)\n",
        "# print(a)"
      ],
      "metadata": {
        "id": "i4_2rAyrfiGl",
        "colab": {
          "base_uri": "https://localhost:8080/"
        },
        "outputId": "83f1e0bd-de70-436f-fec1-ba77a01bf2d0"
      },
      "execution_count": null,
      "outputs": [
        {
          "output_type": "stream",
          "name": "stdout",
          "text": [
            "[1, 2, ['a', 'b', ['사랑해', '파이썬']], 3, '봄', '봄', '봄']\n",
            "[1, 2, ['a', 'b', ['사랑해', '파이썬']], 3, '봄', '봄', '봄', '봄']\n"
          ]
        }
      ]
    },
    {
      "cell_type": "markdown",
      "source": [
        "**리스트 요소 삭제**"
      ],
      "metadata": {
        "id": "k211ATQqf5Ol"
      }
    },
    {
      "cell_type": "code",
      "source": [
        "print(a)\n",
        "a.pop()     # 리스트 맨 끝 요소 삭제\n",
        "print(a)\n",
        "a.remove('봄')  # 리스트명.remove(값), 단 여러 개 일 경우 첫 번째만 삭제됨\n",
        "print(a)"
      ],
      "metadata": {
        "id": "jb18botVf5V-"
      },
      "execution_count": null,
      "outputs": []
    },
    {
      "cell_type": "markdown",
      "source": [
        "### **[딕셔너리]**"
      ],
      "metadata": {
        "id": "DTsiTSprfPtQ"
      }
    },
    {
      "cell_type": "code",
      "source": [
        "help(list())"
      ],
      "metadata": {
        "colab": {
          "base_uri": "https://localhost:8080/"
        },
        "id": "91dr-XMqUN-J",
        "outputId": "d82423b3-1c26-4055-d5a7-0a51c8d6a8cb"
      },
      "execution_count": null,
      "outputs": [
        {
          "output_type": "stream",
          "name": "stdout",
          "text": [
            "Help on list object:\n",
            "\n",
            "class list(object)\n",
            " |  list(iterable=(), /)\n",
            " |  \n",
            " |  Built-in mutable sequence.\n",
            " |  \n",
            " |  If no argument is given, the constructor creates a new empty list.\n",
            " |  The argument must be an iterable if specified.\n",
            " |  \n",
            " |  Methods defined here:\n",
            " |  \n",
            " |  __add__(self, value, /)\n",
            " |      Return self+value.\n",
            " |  \n",
            " |  __contains__(self, key, /)\n",
            " |      Return key in self.\n",
            " |  \n",
            " |  __delitem__(self, key, /)\n",
            " |      Delete self[key].\n",
            " |  \n",
            " |  __eq__(self, value, /)\n",
            " |      Return self==value.\n",
            " |  \n",
            " |  __ge__(self, value, /)\n",
            " |      Return self>=value.\n",
            " |  \n",
            " |  __getattribute__(self, name, /)\n",
            " |      Return getattr(self, name).\n",
            " |  \n",
            " |  __getitem__(...)\n",
            " |      x.__getitem__(y) <==> x[y]\n",
            " |  \n",
            " |  __gt__(self, value, /)\n",
            " |      Return self>value.\n",
            " |  \n",
            " |  __iadd__(self, value, /)\n",
            " |      Implement self+=value.\n",
            " |  \n",
            " |  __imul__(self, value, /)\n",
            " |      Implement self*=value.\n",
            " |  \n",
            " |  __init__(self, /, *args, **kwargs)\n",
            " |      Initialize self.  See help(type(self)) for accurate signature.\n",
            " |  \n",
            " |  __iter__(self, /)\n",
            " |      Implement iter(self).\n",
            " |  \n",
            " |  __le__(self, value, /)\n",
            " |      Return self<=value.\n",
            " |  \n",
            " |  __len__(self, /)\n",
            " |      Return len(self).\n",
            " |  \n",
            " |  __lt__(self, value, /)\n",
            " |      Return self<value.\n",
            " |  \n",
            " |  __mul__(self, value, /)\n",
            " |      Return self*value.\n",
            " |  \n",
            " |  __ne__(self, value, /)\n",
            " |      Return self!=value.\n",
            " |  \n",
            " |  __repr__(self, /)\n",
            " |      Return repr(self).\n",
            " |  \n",
            " |  __reversed__(self, /)\n",
            " |      Return a reverse iterator over the list.\n",
            " |  \n",
            " |  __rmul__(self, value, /)\n",
            " |      Return value*self.\n",
            " |  \n",
            " |  __setitem__(self, key, value, /)\n",
            " |      Set self[key] to value.\n",
            " |  \n",
            " |  __sizeof__(self, /)\n",
            " |      Return the size of the list in memory, in bytes.\n",
            " |  \n",
            " |  append(self, object, /)\n",
            " |      Append object to the end of the list.\n",
            " |  \n",
            " |  clear(self, /)\n",
            " |      Remove all items from list.\n",
            " |  \n",
            " |  copy(self, /)\n",
            " |      Return a shallow copy of the list.\n",
            " |  \n",
            " |  count(self, value, /)\n",
            " |      Return number of occurrences of value.\n",
            " |  \n",
            " |  extend(self, iterable, /)\n",
            " |      Extend list by appending elements from the iterable.\n",
            " |  \n",
            " |  index(self, value, start=0, stop=9223372036854775807, /)\n",
            " |      Return first index of value.\n",
            " |      \n",
            " |      Raises ValueError if the value is not present.\n",
            " |  \n",
            " |  insert(self, index, object, /)\n",
            " |      Insert object before index.\n",
            " |  \n",
            " |  pop(self, index=-1, /)\n",
            " |      Remove and return item at index (default last).\n",
            " |      \n",
            " |      Raises IndexError if list is empty or index is out of range.\n",
            " |  \n",
            " |  remove(self, value, /)\n",
            " |      Remove first occurrence of value.\n",
            " |      \n",
            " |      Raises ValueError if the value is not present.\n",
            " |  \n",
            " |  reverse(self, /)\n",
            " |      Reverse *IN PLACE*.\n",
            " |  \n",
            " |  sort(self, /, *, key=None, reverse=False)\n",
            " |      Sort the list in ascending order and return None.\n",
            " |      \n",
            " |      The sort is in-place (i.e. the list itself is modified) and stable (i.e. the\n",
            " |      order of two equal elements is maintained).\n",
            " |      \n",
            " |      If a key function is given, apply it once to each list item and sort them,\n",
            " |      ascending or descending, according to their function values.\n",
            " |      \n",
            " |      The reverse flag can be set to sort in descending order.\n",
            " |  \n",
            " |  ----------------------------------------------------------------------\n",
            " |  Class methods defined here:\n",
            " |  \n",
            " |  __class_getitem__(...) from builtins.type\n",
            " |      See PEP 585\n",
            " |  \n",
            " |  ----------------------------------------------------------------------\n",
            " |  Static methods defined here:\n",
            " |  \n",
            " |  __new__(*args, **kwargs) from builtins.type\n",
            " |      Create and return a new object.  See help(type) for accurate signature.\n",
            " |  \n",
            " |  ----------------------------------------------------------------------\n",
            " |  Data and other attributes defined here:\n",
            " |  \n",
            " |  __hash__ = None\n",
            "\n"
          ]
        }
      ]
    },
    {
      "cell_type": "markdown",
      "source": [
        "**딕셔너리 키(key)와 값(value)에 접근하기**"
      ],
      "metadata": {
        "id": "n5XA-oqKgARN"
      }
    },
    {
      "cell_type": "code",
      "source": [
        "scores = {'국어': 100, '수학': 90, '영어': 80}\n",
        "\n",
        "print(scores['국어'])  # 딕셔너리는 키로 접근한다.\n",
        "\n",
        "# 방법1\n",
        "print('---방법1---')\n",
        "for key in scores:\n",
        "    print('%s => %s' % (key, scores[key]))\n",
        "\n",
        "# 방법2\n",
        "print('---방법2---')\n",
        "for key, value in scores.items():\n",
        "    print('%s => %s' % (key, value))"
      ],
      "metadata": {
        "id": "JcVVvEfAgA77",
        "colab": {
          "base_uri": "https://localhost:8080/"
        },
        "outputId": "2d9dff5c-c749-4778-b1f5-2939a3ae8f17"
      },
      "execution_count": null,
      "outputs": [
        {
          "output_type": "stream",
          "name": "stdout",
          "text": [
            "100\n",
            "---방법1---\n",
            "국어 => 100\n",
            "수학 => 90\n",
            "영어 => 80\n",
            "---방법2---\n",
            "국어 => 100\n",
            "수학 => 90\n",
            "영어 => 80\n"
          ]
        }
      ]
    },
    {
      "cell_type": "code",
      "source": [
        "print(scores.keys())   # 키만 추출\n",
        "print(scores.values()) # 값만 추출\n",
        "print(scores.items())  # (키,값)쌍 형태로 추출"
      ],
      "metadata": {
        "id": "yqlgBr22gH_7",
        "colab": {
          "base_uri": "https://localhost:8080/"
        },
        "outputId": "4e7e65c6-f12a-4898-c829-80fcfefa1156"
      },
      "execution_count": null,
      "outputs": [
        {
          "output_type": "stream",
          "name": "stdout",
          "text": [
            "dict_keys(['국어', '수학', '영어'])\n",
            "dict_values([100, 90, 80])\n",
            "dict_items([('국어', 100), ('수학', 90), ('영어', 80)])\n"
          ]
        }
      ]
    },
    {
      "cell_type": "markdown",
      "source": [
        "**딕셔너리에 요소 추가/수정/삭제**"
      ],
      "metadata": {
        "id": "ZRDlQlqOgBDO"
      }
    },
    {
      "cell_type": "code",
      "source": [
        "# 키로 요소 추가하기\n",
        "scores['music'] = 100\n",
        "print(scores)\n",
        "\n",
        "# 요소 값 수정하기\n",
        "scores['수학'] = 99\n",
        "print(scores)\n",
        "\n",
        "# 요소 삭제하기\n",
        "del (scores['영어'])\n",
        "print(scores)"
      ],
      "metadata": {
        "id": "DVW8BQbAgBKR"
      },
      "execution_count": null,
      "outputs": []
    },
    {
      "cell_type": "markdown",
      "metadata": {
        "id": "0SWp1LN08GGY"
      },
      "source": [
        "------"
      ]
    },
    {
      "cell_type": "markdown",
      "metadata": {
        "id": "x4FIhV_y8GGZ"
      },
      "source": [
        "### 2-2. 조건문과 반목문으로 흐름 제어하기"
      ]
    },
    {
      "cell_type": "markdown",
      "metadata": {
        "id": "LPe_skHf8GGZ"
      },
      "source": [
        "### **[조건문]**"
      ]
    },
    {
      "cell_type": "markdown",
      "metadata": {
        "id": "Ar6JKwtB8GGZ"
      },
      "source": [
        "#### 실습문제 : 짝수 홀수 판별하기\n",
        "숫자를 입력 받아 짝수/홀수를 판별하는 코드를 만들어 보세요."
      ]
    },
    {
      "cell_type": "code",
      "execution_count": null,
      "metadata": {
        "id": "09w2BCcN8GGZ",
        "outputId": "4bf8e192-bd6e-48c3-cfe3-8db8f4e908b5"
      },
      "outputs": [
        {
          "name": "stdout",
          "output_type": "stream",
          "text": [
            "숫자를 입력해 주세요: 43\n",
            "입력된 수 : 43 ==> 홀수\n"
          ]
        }
      ],
      "source": [
        "x = int(input('숫자를 입력해 주세요: '))\n",
        "\n",
        "if x % 2 == 0:\n",
        "    print('입력된 수 : %d ==> 짝수' % x)\n",
        "else:\n",
        "    print('입력된 수 : %d ==> 홀수' % x)"
      ]
    },
    {
      "cell_type": "markdown",
      "metadata": {
        "id": "kJuobsMS8GGZ"
      },
      "source": [
        "#### 실습문제 : 직각 삼각형 판별하기\n",
        "피타고라스 정리에 의해 직각삼각형의 세 변의 길이에 대한 관계는 아래와 같습니다. 이 정리를 이용하여 세 변의 길이를 입력 받은 삼각형이 직각삼각형인지 아닌지 판별하는 프로그램을 만들어 보세요"
      ]
    },
    {
      "cell_type": "code",
      "execution_count": null,
      "metadata": {
        "id": "YWDF2qmn8GGZ",
        "colab": {
          "base_uri": "https://localhost:8080/"
        },
        "outputId": "46daa8f8-7e76-458b-b2ce-1e6a1a454d97"
      },
      "outputs": [
        {
          "output_type": "stream",
          "name": "stdout",
          "text": [
            "변 a: 2\n",
            "변 b: 3\n",
            "변 c: 4\n",
            "직각삼각형 아님\n"
          ]
        }
      ],
      "source": [
        "a=int(input('변 a: '))\n",
        "b=int(input('변 b: '))\n",
        "c=int(input('변 c: '))\n",
        "\n",
        "if a*a+b*b ==c*c:\n",
        "    print('직각삼각형')\n",
        "else:\n",
        "    print('직각삼각형 아님')"
      ]
    },
    {
      "cell_type": "code",
      "source": [
        "a=int(input('변 a: '))\n",
        "b=int(input('변 b: '))\n",
        "c=int(input('빗변 c: '))\n",
        "\n",
        "if(a**2 +b**2 ==c**2):\n",
        "    print('직각삼각형')\n",
        "else:\n",
        "    print('아님')"
      ],
      "metadata": {
        "colab": {
          "base_uri": "https://localhost:8080/"
        },
        "id": "nvKW4arWaMMv",
        "outputId": "5bb57c5b-76d2-4478-bfea-80099cb94013"
      },
      "execution_count": null,
      "outputs": [
        {
          "output_type": "stream",
          "name": "stdout",
          "text": [
            "변 a: 2\n",
            "변 b: 3\n",
            "빗변 c: 4\n",
            "아님\n"
          ]
        }
      ]
    },
    {
      "cell_type": "markdown",
      "source": [
        "### 실습문제 : 커피 자판기 조건문\n",
        "아래 조건을 만족하는 커피 자동주문 머신을 만들어보세요.<br><br>\n",
        "[커피 자동주문 머신]<br>\n",
        "친구들과 현금 커피 자동주문 머신 앞에서\n",
        " - 아메리카노 2잔과 카페라테 2잔 카푸치노 1잔을 주문하였다.\n",
        " - 아메리카노 한잔에 2500원이고\n",
        " - 카페라테는 한잔에 3000원\n",
        " - 카푸치노는 한잔에 3000원이다.\n",
        "커피 종류와 잔 수를 결정한 후 현금 15000원을 투입하고 잔돈을 1000원 받았다."
      ],
      "metadata": {
        "id": "3SDdg7Aeg7MW"
      }
    },
    {
      "cell_type": "code",
      "source": [
        "menu='''커피메뉴\n",
        "------------------\n",
        "-아메리카노:2500\n",
        "-카페라테:3000\n",
        "-카푸치노:3500\n",
        "커피 종류와 잔수를 입력하세요\n",
        "-------------------------'''\n",
        "print(menu)\n",
        "coffee1=int(input(아메리카노 몇잔:  ))\n",
        "coffee2=int(input(아메리카노 몇잔:  ))\n",
        "coffee3=int(input(아메리카노 몇잔:  ))\n",
        "total = c1_p*coffee1+ c2_p*coffee2+c3_p*coffee3\n",
        "print('금액은[total')\n",
        "\n",
        "m=int(input('돈을 넣어주세요'))\n",
        "if m<total:\n",
        "    print(f'부족합니다. {m-total}원을 더 넣어주세요')\n"
      ],
      "metadata": {
        "id": "BZlOMJHKg7dN",
        "colab": {
          "base_uri": "https://localhost:8080/",
          "height": 146
        },
        "outputId": "0f43b8f8-4096-440b-f58a-4ca4610e31d6"
      },
      "execution_count": 3,
      "outputs": [
        {
          "output_type": "error",
          "ename": "SyntaxError",
          "evalue": "ignored",
          "traceback": [
            "\u001b[0;36m  File \u001b[0;32m\"<ipython-input-3-e6595c06e132>\"\u001b[0;36m, line \u001b[0;32m9\u001b[0m\n\u001b[0;31m    coffee1=int(input(아메리카노 몇잔:  ))\u001b[0m\n\u001b[0m                      ^\u001b[0m\n\u001b[0;31mSyntaxError\u001b[0m\u001b[0;31m:\u001b[0m invalid syntax. Perhaps you forgot a comma?\n"
          ]
        }
      ]
    },
    {
      "cell_type": "code",
      "source": [
        "coffee1_price = 2500\n",
        "coffee2_price = 3000\n",
        "coffee3_price = 3000\n",
        "menu = f'''[커피 자동주무 머신 메뉴]\n",
        "--------------------------------\n",
        "- 아메리카노 한잔에 {coffee1_price}원\n",
        "- 카페라테는 한잔에 {coffee2_price}원\n",
        "- 카푸치노는 한잔에 {coffee3_price}원\n",
        "원하시는 커피 종류와 잔수를 입력하세요.\n",
        "--------------------------------'''\n",
        "print(menu)\n",
        "coffee1 = int(input('아메리카노 몇잔: '))\n",
        "coffee2 = int(input('카페라테   몇잔: '))\n",
        "coffee3 = int(input('카푸치노   몇잔: '))\n",
        "total = coffee1_price*coffee1 + coffee2_price*coffee2 \\\n",
        "                +coffee3_price*coffee3\n",
        "print(f'지불할 총 금액은 {total} 원 입니다.')\n",
        "\n",
        "money = int(input('돈을 넣어주세요: '))\n",
        "\n",
        "if money < total:\n",
        "    print(f'금액이 부족합니다. {total - money} 원을 더 넣어주세요.')\n",
        "elif:\n",
        "    print(f'잔돈은 {money - total} 원 입니다.')\n",
        "    print('커피 맛있게 드세요~~~~')\n",
        "else:\n",
        "    print('커피 맛있게 드세요~~~~')"
      ],
      "metadata": {
        "colab": {
          "base_uri": "https://localhost:8080/"
        },
        "id": "KKwp6QwMHHmG",
        "outputId": "115974b3-91ed-4752-834c-5f4219517943"
      },
      "execution_count": 4,
      "outputs": [
        {
          "output_type": "stream",
          "name": "stdout",
          "text": [
            "[커피 자동주무 머신 메뉴]\n",
            "--------------------------------\n",
            "- 아메리카노 한잔에 2500원\n",
            "- 카페라테는 한잔에 3000원\n",
            "- 카푸치노는 한잔에 3000원\n",
            "원하시는 커피 종류와 잔수를 입력하세요.\n",
            "--------------------------------\n",
            "아메리카노 몇잔: 1\n",
            "카페라테   몇잔: 2\n",
            "카푸치노   몇잔: 1\n",
            "지불할 총 금액은 11500 원 입니다.\n",
            "돈을 넣어주세요: 5000\n",
            "금액이 부족합니다. 6500 원을 더 넣어주세요.\n"
          ]
        }
      ]
    },
    {
      "cell_type": "markdown",
      "source": [
        "#### if와 else 문장을 --> elif 문장으로 변환하기"
      ],
      "metadata": {
        "id": "Q31ZlqMchT2f"
      }
    },
    {
      "cell_type": "code",
      "source": [
        "# if, else 문장\n",
        "pocket = ['paper', 'handphone']\n",
        "card = True\n",
        "\n",
        "if 'money' in pocket:\n",
        "    print('택시를 타고 가세요')\n",
        "else:\n",
        "    if card:\n",
        "        print('택시를 타고 가세요')\n",
        "    else:\n",
        "        print('걸어서 가세요')"
      ],
      "metadata": {
        "id": "9m8hAaSMhUId"
      },
      "execution_count": null,
      "outputs": []
    },
    {
      "cell_type": "code",
      "source": [
        "# if elif 문장\n",
        "pocket = ['paper', 'handphone']\n",
        "card = True\n",
        "\n",
        "if 'money' in pocket:\n",
        "    print('택시를 타고 가세요')\n",
        "elif card:\n",
        "    print('택시를 타고 가세요')\n",
        "else:\n",
        "    print('걸어서 가세요')"
      ],
      "metadata": {
        "id": "JGZXfbdNhgJN"
      },
      "execution_count": null,
      "outputs": []
    },
    {
      "cell_type": "code",
      "source": [
        "age= int(input('나이를 입력하세요'))\n",
        "m= '성인입니다.' if age >=20 else '미성년자입니다.'\n",
        "print(m)"
      ],
      "metadata": {
        "colab": {
          "base_uri": "https://localhost:8080/"
        },
        "id": "ETV_mpd8JNtO",
        "outputId": "7032a1c7-6b8d-452b-ddb2-bd1d57d9f035"
      },
      "execution_count": 8,
      "outputs": [
        {
          "output_type": "stream",
          "name": "stdout",
          "text": [
            "나이를 입력하세요19\n",
            "미성년자입니다.\n"
          ]
        }
      ]
    },
    {
      "cell_type": "code",
      "source": [
        "score= int(input('점수를 입력하세'))\n",
        "m= 'success' if score >=60 else 'failure!'"
      ],
      "metadata": {
        "id": "3Xb7b4sYJp55"
      },
      "execution_count": null,
      "outputs": []
    },
    {
      "cell_type": "code",
      "source": [
        "n= int(input('숫자'))\n",
        "m= '짝수' if n%2==0 else '홀수'\n",
        "print(m)"
      ],
      "metadata": {
        "colab": {
          "base_uri": "https://localhost:8080/"
        },
        "id": "rn5YD727KCih",
        "outputId": "a04c5845-3ab2-49fe-979d-1ae40a03de03"
      },
      "execution_count": 6,
      "outputs": [
        {
          "output_type": "stream",
          "name": "stdout",
          "text": [
            "숫자3\n",
            "홀수\n"
          ]
        }
      ]
    },
    {
      "cell_type": "markdown",
      "source": [
        "#### 조건부 표현식"
      ],
      "metadata": {
        "id": "Io13oQKLhgph"
      }
    },
    {
      "cell_type": "code",
      "source": [
        "score = int(input('점수를 입력하세요: '))\n",
        "message = \"success!\" if score >=60 else \"failure!\"\n",
        "print(message)"
      ],
      "metadata": {
        "id": "h0V6WqWchnTA"
      },
      "execution_count": null,
      "outputs": []
    },
    {
      "cell_type": "markdown",
      "metadata": {
        "id": "4RoolGBF8GGa"
      },
      "source": [
        "------"
      ]
    },
    {
      "cell_type": "markdown",
      "metadata": {
        "id": "G2T6Nybt8GGa"
      },
      "source": [
        "### **[반복문-for]**"
      ]
    },
    {
      "cell_type": "code",
      "source": [
        "for i in range(0,3,1):\n",
        "    print(f'{i}안녕하세요')"
      ],
      "metadata": {
        "colab": {
          "base_uri": "https://localhost:8080/"
        },
        "id": "6sbaSdP5QetH",
        "outputId": "32190105-0d74-4bce-e078-9571d327a5de"
      },
      "execution_count": 10,
      "outputs": [
        {
          "output_type": "stream",
          "name": "stdout",
          "text": [
            "0안녕하세요\n",
            "1안녕하세요\n",
            "2안녕하세요\n"
          ]
        }
      ]
    },
    {
      "cell_type": "code",
      "source": [
        "for x in range(10,21,2):\n",
        "    print(f'{x} 안녕하세요')"
      ],
      "metadata": {
        "colab": {
          "base_uri": "https://localhost:8080/"
        },
        "id": "TWIBfXkbQ4p3",
        "outputId": "94ffc174-6b4e-47ed-8030-fb72d87a277f"
      },
      "execution_count": 11,
      "outputs": [
        {
          "output_type": "stream",
          "name": "stdout",
          "text": [
            "10 안녕하세요\n",
            "12 안녕하세요\n",
            "14 안녕하세요\n",
            "16 안녕하세요\n",
            "18 안녕하세요\n",
            "20 안녕하세요\n"
          ]
        }
      ]
    },
    {
      "cell_type": "code",
      "source": [
        "for x in range(10,0,-2):\n",
        "    print(f'{x} 안녕하세요')"
      ],
      "metadata": {
        "colab": {
          "base_uri": "https://localhost:8080/"
        },
        "id": "w1y39GkzRNCm",
        "outputId": "ef0f08cb-25d0-4b26-efbb-9b63d8246cfe"
      },
      "execution_count": 12,
      "outputs": [
        {
          "output_type": "stream",
          "name": "stdout",
          "text": [
            "10 안녕하세요\n",
            "8 안녕하세요\n",
            "6 안녕하세요\n",
            "4 안녕하세요\n",
            "2 안녕하세요\n"
          ]
        }
      ]
    },
    {
      "cell_type": "code",
      "source": [
        "a='오렌지'\n",
        "for x in a:\n",
        "    print(x)"
      ],
      "metadata": {
        "colab": {
          "base_uri": "https://localhost:8080/"
        },
        "id": "Bb3vsAXoRlDo",
        "outputId": "a5af7b72-6b47-41a1-8c50-f250fc9d5003"
      },
      "execution_count": 15,
      "outputs": [
        {
          "output_type": "stream",
          "name": "stdout",
          "text": [
            "오\n",
            "렌\n",
            "지\n"
          ]
        }
      ]
    },
    {
      "cell_type": "code",
      "source": [
        "a=['사과','배','포도','오렌지'] #리스트 사용\n",
        "for x in a:\n",
        "    print(f'내가 좋아하는 과일은{x}')"
      ],
      "metadata": {
        "colab": {
          "base_uri": "https://localhost:8080/"
        },
        "id": "6yVoxnUQR8Fb",
        "outputId": "e653b551-a7b6-4971-9106-2c7ae5d425b7"
      },
      "execution_count": 18,
      "outputs": [
        {
          "output_type": "stream",
          "name": "stdout",
          "text": [
            "내가 좋아하는 과일은사과\n",
            "내가 좋아하는 과일은배\n",
            "내가 좋아하는 과일은포도\n",
            "내가 좋아하는 과일은오렌지\n"
          ]
        }
      ]
    },
    {
      "cell_type": "code",
      "source": [
        "#enumerate(): 인덱스 정보를 준다.\n",
        "a=['사과','배','포도','오렌지']\n",
        "for idx, x in enumerate(a):\n",
        "    print(f'내가 좋아하는 과일은{x}')"
      ],
      "metadata": {
        "id": "kl-XaS7FTRf9"
      },
      "execution_count": null,
      "outputs": []
    },
    {
      "cell_type": "markdown",
      "metadata": {
        "id": "HuWJNA-T8GGa"
      },
      "source": [
        "#### 실습문제 : 1~N까지 합계 구하기\n",
        "숫자를 입력받아 1~n까지의 합을 구할 때 짝수를 제외하고 합을 구하는 프로그램을 만들어 보세요."
      ]
    },
    {
      "cell_type": "code",
      "execution_count": 24,
      "metadata": {
        "id": "t4NbQOOe8GGa",
        "colab": {
          "base_uri": "https://localhost:8080/"
        },
        "outputId": "e7c2956a-a5ab-4e31-bf83-940a686ab041"
      },
      "outputs": [
        {
          "output_type": "stream",
          "name": "stdout",
          "text": [
            "합계를 구할 숫자 입력: 5\n",
            "11 \n",
            "23 \n",
            "36 \n",
            "410 \n",
            "515 \n"
          ]
        }
      ],
      "source": [
        "n= int(input('합계를 구할 숫자 입력: '))\n",
        "hap=0\n",
        "for i in range(1,n+1,1):\n",
        "    if i%2=!0:\n",
        "\n",
        "\n",
        "   hap= hap+ i\n",
        "   print(f'{i}{hap} ')"
      ]
    },
    {
      "cell_type": "code",
      "source": [
        "n= int(input('합계를 구할 숫자 입력: '))\n",
        "hap=0\n",
        "for n in range(1,n):"
      ],
      "metadata": {
        "id": "lp9HQwiYWDY9"
      },
      "execution_count": null,
      "outputs": []
    },
    {
      "cell_type": "code",
      "source": [
        "n=int(input('숫자입력:'))\n",
        "hap=0\n",
        "\n",
        "for i in range(1,n+1):\n",
        "    if i %2 !=0:\n",
        "        hap+=i\n",
        "\n",
        "print(f'1~{n}까지 짝수를 제외한 합은:{hap}')"
      ],
      "metadata": {
        "id": "RcxaL-BrP9NM"
      },
      "execution_count": null,
      "outputs": []
    },
    {
      "cell_type": "markdown",
      "source": [
        "### [실습문제] turtle로 정오각형 그리기\n",
        "#### 주의! : turtle은 가능한 IDLE 또는 에디터에서 사용한다.\n",
        "Turtle 이용해서 정오각형을 그리는 코드이다. 이것을 for 반복문을 이용하여 코드를 줄여보세요."
      ],
      "metadata": {
        "id": "h93aJfzOiJEc"
      }
    },
    {
      "cell_type": "code",
      "source": [
        "!pip install ColabTurtle"
      ],
      "metadata": {
        "colab": {
          "base_uri": "https://localhost:8080/"
        },
        "id": "ImwI-YuXdY1f",
        "outputId": "82b20b6d-d1b1-48a1-b26e-8230ff92617f"
      },
      "execution_count": 25,
      "outputs": [
        {
          "output_type": "stream",
          "name": "stdout",
          "text": [
            "Collecting ColabTurtle\n",
            "  Downloading ColabTurtle-2.1.0.tar.gz (6.8 kB)\n",
            "  Preparing metadata (setup.py) ... \u001b[?25l\u001b[?25hdone\n",
            "Building wheels for collected packages: ColabTurtle\n",
            "  Building wheel for ColabTurtle (setup.py) ... \u001b[?25l\u001b[?25hdone\n",
            "  Created wheel for ColabTurtle: filename=ColabTurtle-2.1.0-py3-none-any.whl size=7641 sha256=b3351e2fb64028b0f06eaec656c05569ef787fb5ccecca49f320034a0f6abbef\n",
            "  Stored in directory: /root/.cache/pip/wheels/5b/86/e8/54f5c8c853606e3a3060bb2e60363cbed632374a12e0f33ffc\n",
            "Successfully built ColabTurtle\n",
            "Installing collected packages: ColabTurtle\n",
            "Successfully installed ColabTurtle-2.1.0\n"
          ]
        }
      ]
    },
    {
      "cell_type": "code",
      "source": [
        "import turtle\n",
        "\n",
        "t=turtle.Pen()    # 펜블럭\n",
        "# t.shape('turtle') # 커서 모양\n",
        "# t.color('red')    # 선 색생\n",
        "# t.pensize(5)      # 선 굵기\n",
        "\n",
        "t.forward(100)\n",
        "t.right(72)\n",
        "t.forward(100)\n",
        "t.right(72)\n",
        "t.forward(100)\n",
        "t.right(72)\n",
        "t.forward(100)\n",
        "t.right(72)\n",
        "t.forward(100)\n",
        "t.right(72)\n",
        "\n",
        "turtle.exitonclick()"
      ],
      "metadata": {
        "id": "Qb9JdImXiJQ8"
      },
      "execution_count": null,
      "outputs": []
    },
    {
      "cell_type": "code",
      "source": [
        "import turtle\n",
        "\n",
        "t=turtle.Pen()    # 펜블럭\n",
        "\n",
        "t.shape('turtle') # 커서 모양\n",
        "t.color('blue')    # 선 색생\n",
        "t.pensize(5)      # 선 굵기\n",
        "\n",
        "for i in range(5):\n",
        "    t.forward(100)\n",
        "    t.right(360/5)\n",
        "\n",
        "turtle.exitonclick()"
      ],
      "metadata": {
        "id": "NvZvK4qiiQCS"
      },
      "execution_count": null,
      "outputs": []
    },
    {
      "cell_type": "code",
      "source": [
        "#벌집 그리기\n",
        "import turtle\n",
        "\n",
        "t=turtle.Turtle()\n",
        "# t.up()\n",
        "# t.goto(-30, 50)\n",
        "# t.down()\n",
        "\n",
        "def honeycomb(): # 벌집 그리기\n",
        "    for i in range(6):\n",
        "        for _ in range(6):\n",
        "            t.forward(100)\n",
        "            t.left(60)\n",
        "        t.forward(100)\n",
        "        t.right(60)\n",
        "\n",
        "honeycomb()\n",
        "turtle.exitonclick()"
      ],
      "metadata": {
        "id": "yB44V9CfiTUa"
      },
      "execution_count": null,
      "outputs": []
    },
    {
      "cell_type": "code",
      "source": [
        "# 마우스로 클릭한 위치에 별 그리기\n",
        "import turtle\n",
        "t = turtle.Turtle()\n",
        "\n",
        "t.speed(0)  # 0: 그리기 속도 가장 빠르게\n",
        "t.screen.bgcolor('black')\n",
        "t.color('yellow') # (거북이)그리기 색상 노랑\n",
        "t.clear()         # 화면 지우기\n",
        "t.penup()\n",
        "\n",
        "# 별 그리기\n",
        "def drawStar(x, y):\n",
        "    t.goto(x, y)\n",
        "    t.pendown()\n",
        "    t.begin_fill()\n",
        "    for _ in range(5):\n",
        "        t.forward(20)\n",
        "        t.right(144)\n",
        "    t.end_fill()\n",
        "    t.penup()\n",
        "\n",
        "# 마우스로 화면 클릭하기\n",
        "turtle.onscreenclick(drawStar)\n",
        "t.ht()\n",
        "\n",
        "# 화면에 포커스가 있는 상태 유지하기\n",
        "turtle.listen()"
      ],
      "metadata": {
        "id": "crtkrhFLiaEz"
      },
      "execution_count": null,
      "outputs": []
    },
    {
      "cell_type": "markdown",
      "source": [
        "### **[반복문-while]**"
      ],
      "metadata": {
        "id": "bIFYG9GZi1au"
      }
    },
    {
      "cell_type": "code",
      "execution_count": 26,
      "metadata": {
        "scrolled": true,
        "id": "3AUjxAga8GGb",
        "outputId": "80cabb03-3f6d-444b-b2d4-ba82f2f33662",
        "colab": {
          "base_uri": "https://localhost:8080/"
        }
      },
      "outputs": [
        {
          "output_type": "stream",
          "name": "stdout",
          "text": [
            "더할 첫 번째 숫자: 10\n",
            "더할 두 번째 숫자: 20\n",
            "10 + 20 = 30\n",
            "더할 첫 번째 숫자: 0\n",
            "0을 입력해서 반복문을 탈출했습니다.\n"
          ]
        }
      ],
      "source": [
        "num1, num2 = 0, 0\n",
        "\n",
        "while True:\n",
        "    num1 = int(input(\"더할 첫 번째 숫자: \"))\n",
        "    if num1 == 0:\n",
        "        break\n",
        "    num2 = int(input(\"더할 두 번째 숫자: \"))\n",
        "\n",
        "    print(f'{num1} + {num2} = {num1 + num2}')\n",
        "\n",
        "print(\"0을 입력해서 반복문을 탈출했습니다.\")\n"
      ]
    },
    {
      "cell_type": "code",
      "source": [
        "num1 = 100\n",
        "while num1 >num2:\n",
        "    num2 = int(input('숫자를 입력하세요: '))\n",
        "    print(f'{num1}{num2}')\n",
        "\n",
        "print(f'{num2}는 {num1}')"
      ],
      "metadata": {
        "id": "UvRAmjMwf7-a"
      },
      "execution_count": null,
      "outputs": []
    },
    {
      "cell_type": "markdown",
      "source": [
        "### 실습문제 : 나무 열 번 찍어 넘기기"
      ],
      "metadata": {
        "id": "p7P0Vy-XjIBz"
      }
    },
    {
      "cell_type": "code",
      "source": [
        "cnt=0\n",
        "while cnt <10 :\n",
        "    cnt+=1\n",
        "    print(f'나무를 {cnt}번 찍었습니다.')\n",
        "\n",
        "print('나무 넘어갑니다.')\n",
        "\n",
        "\n"
      ],
      "metadata": {
        "id": "A1OSHn1tjNE5",
        "colab": {
          "base_uri": "https://localhost:8080/"
        },
        "outputId": "468c1fd6-77d0-4a18-8774-9cbfc93a10a0"
      },
      "execution_count": 27,
      "outputs": [
        {
          "output_type": "stream",
          "name": "stdout",
          "text": [
            "나무를 1번 찍었습니다.\n",
            "나무를 2번 찍었습니다.\n",
            "나무를 3번 찍었습니다.\n",
            "나무를 4번 찍었습니다.\n",
            "나무를 5번 찍었습니다.\n",
            "나무를 6번 찍었습니다.\n",
            "나무를 7번 찍었습니다.\n",
            "나무를 8번 찍었습니다.\n",
            "나무를 9번 찍었습니다.\n",
            "나무를 10번 찍었습니다.\n",
            "나무 넘어갑니다.\n"
          ]
        }
      ]
    },
    {
      "cell_type": "markdown",
      "metadata": {
        "id": "xLogGjPX8GGb"
      },
      "source": [
        "#### 실습문제: 무한 반복 빠져나오기\n",
        "무한 반복문을 빠져나오기 위한 프로그램을 만들어 보세요"
      ]
    },
    {
      "cell_type": "code",
      "execution_count": null,
      "metadata": {
        "id": "yq1VvWQb8GGb"
      },
      "outputs": [],
      "source": [
        "prompt = \"\"\"\n",
        "    1.Add   2.Del   3.Modify   4.Quit\n",
        "\n",
        "    Enter number: \"\"\"   # 1.코드를 실행하면 출력되는 부분\n",
        "\n",
        "number = 0\n",
        "\n",
        "\n",
        "\n",
        "\n"
      ]
    },
    {
      "cell_type": "markdown",
      "metadata": {
        "id": "H3QS9PpM8GGb"
      },
      "source": [
        "#### 실습문제\n",
        "공을 일정 높이에서 던졌을 때, 원래 높이의 1/2만큼 튀어 오른다고 합니다. 그러다가 높이가 0.00001m보다 낮으면 튀어오르지 않는다고 합니다. while문을 이용하여 이 프로그램을 만들어 보세요."
      ]
    },
    {
      "cell_type": "code",
      "execution_count": 34,
      "metadata": {
        "scrolled": true,
        "id": "nRTqUvpG8GGc",
        "colab": {
          "base_uri": "https://localhost:8080/"
        },
        "outputId": "99ec7bbb-e05b-4a70-bdec-8f9ef03fff03"
      },
      "outputs": [
        {
          "output_type": "stream",
          "name": "stdout",
          "text": [
            "공의 높이를 입력하세요(meter) : 100\n",
            "--------------------------------------------------\n",
            "100위치에서 공의 튕긴 횟수는 24번 입니다.\n"
          ]
        }
      ],
      "source": [
        "length = int(input('공의 높이를 입력하세요(meter) : '))\n",
        "meter, cnt = length, 0\n",
        "while meter >=0.00001:\n",
        "    meter=meter/2\n",
        "    cnt+=1\n",
        "\n",
        "print('-'*50)\n",
        "print(f'{length}위치에서 공의 튕긴 횟수는 {cnt}번 입니다.')"
      ]
    },
    {
      "cell_type": "code",
      "source": [
        "length = int(input('공의 높이를 입력하세요(meter) : '))\n",
        "meter, cnt = length, 0\n",
        "while True:\n",
        "    cnt+=1         #바닥에 닿았다\n",
        "    meter= meter/2 #meter/=2 길이가 반으로 줄ㅇ\n",
        "    if meter <0.00001:\n",
        "        break\n",
        "\n",
        "print('-'*50)\n",
        "print(f'{length}위치에서 공의 튕긴 횟수는 {cnt}번 입니다.')"
      ],
      "metadata": {
        "colab": {
          "base_uri": "https://localhost:8080/"
        },
        "id": "OxWsnnz_xpx9",
        "outputId": "4010c097-22c8-4923-e059-b9c235e8e569"
      },
      "execution_count": 35,
      "outputs": [
        {
          "output_type": "stream",
          "name": "stdout",
          "text": [
            "공의 높이를 입력하세요(meter) : 100\n",
            "--------------------------------------------------\n",
            "100위치에서 공의 튕긴 횟수는 24번 입니다.\n"
          ]
        }
      ]
    },
    {
      "cell_type": "markdown",
      "metadata": {
        "id": "bBpYo7he8GGc"
      },
      "source": [
        "#### 실습문제 : 도둑잡기 게임 만들기\n",
        "경찰에 쫓기던 범인이 3개의 방 중에 한 곳에 숨어버렸습니다. 범인은 방문을 열 때마다 무작위로 3개의 방 중 하나의 방으로 이동합니다. 3개의 방 중 하나의 방을 선택했을 때 범인이 있다면 100점, 없을 때 -10점을 부여하고 범인을 잡으면 게임을 종료하는 프로그램을 만들어 보세요."
      ]
    },
    {
      "cell_type": "code",
      "execution_count": 41,
      "metadata": {
        "id": "Yjs0Tp0m8GGc",
        "colab": {
          "base_uri": "https://localhost:8080/"
        },
        "outputId": "b038a2a2-282b-4e9b-eebc-7d01f6a09a05"
      },
      "outputs": [
        {
          "output_type": "stream",
          "name": "stdout",
          "text": [
            "방 번호를 입력하세요(1,2,3): 2\n",
            "범인을 찾지 못했다\n",
            "방 번호를 입력하세요(1,2,3): 1\n",
            "범인을 찾지 못했다\n",
            "방 번호를 입력하세요(1,2,3): 3\n",
            "범인을 찾지 못했다\n",
            "방 번호를 입력하세요(1,2,3): 2\n",
            "범인체포\n",
            "게임 종료!\n",
            "점수: 10 점\n"
          ]
        }
      ],
      "source": [
        "import random\n",
        "score = 0\n",
        "\n",
        "while True:  # 무한반복\n",
        "    # 1.무작위로 범인 방 배치\n",
        "    room= random.randint(1,3)\n",
        "\n",
        "    # 2.사용자로부터 방 번호 입력 받기\n",
        "    n = int(input('방 번호를 입력하세요(1,2,3): '))\n",
        "\n",
        "    # 3.사용자가 입력한 방 번호와 범인이 있는 방 비교\n",
        "    if room ==  n:\n",
        "        print('범인체포')\n",
        "        score+=100\n",
        "        break\n",
        "    elif room != n:\n",
        "        print('범인을 찾지 못했다')\n",
        "        score-=30\n",
        "\n",
        "\n",
        "\n",
        "\n",
        "\n",
        "print('게임 종료!')        # 게임 종료 메시지 출력\n",
        "print(f'점수: {score} 점') # 최종 점수 출력"
      ]
    },
    {
      "cell_type": "markdown",
      "source": [
        "### 실습문제 :  커피 자동주문 프로그램 업그레이드\n",
        "앞에서 만들어 본 커피 자동주문 머신 프로그램을 while문을 이용하여 돈을 모두 지불할 때까지 돈을 입력 받도록 프로그램 기능 수정하기"
      ],
      "metadata": {
        "id": "iPCnjI9UkoHr"
      }
    },
    {
      "cell_type": "code",
      "source": [
        "menu = '''[커피 자동주문 머신 메뉴]\n",
        "------------------------------\n",
        "-아메리카노는 2500원\n",
        "-카레라떼는 3000원\n",
        "-카푸치노는 3000원\n",
        "입니다. 원하시는 커피종류와 잔수를 입력하세요.\n",
        "------------------------------'''\n",
        "print(menu)\n",
        "coffee1 = int(input(\"아메리카노 몇잔?\"))\n",
        "coffee2 = int(input(\"카페라떼 몇잔?\"))\n",
        "coffee3 = int(input(\"카푸치노 몇잔?\"))\n",
        "\n",
        "\n",
        "\n",
        "\n"
      ],
      "metadata": {
        "id": "HtKho6P3kxtS"
      },
      "execution_count": null,
      "outputs": []
    },
    {
      "cell_type": "code",
      "source": [
        "coffee1_price = 2500\n",
        "coffee2_price = 3000\n",
        "coffee3_price = 3000\n",
        "menu = f'''[커피 자동주무 머신 메뉴]\n",
        "--------------------------------\n",
        "- 아메리카노 한잔에 {coffee1_price}원\n",
        "- 카페라테는 한잔에 {coffee2_price}원\n",
        "- 카푸치노는 한잔에 {coffee3_price}원\n",
        "원하시는 커피 종류와 잔수를 입력하세요.\n",
        "--------------------------------'''\n",
        "print(menu)\n",
        "coffee1 = int(input('아메리카노 몇잔: '))\n",
        "coffee2 = int(input('카페라테   몇잔: '))\n",
        "coffee3 = int(input('카푸치노   몇잔: '))\n",
        "total = coffee1_price*coffee1 + coffee2_price*coffee2 \\\n",
        "                +coffee3_price*coffee3\n",
        "print(f'지불할 총 금액은 {total} 원 입니다.')\n",
        "\n",
        "while True:\n",
        "    print('-'*50)\n",
        "    money = int(input('돈을 넣어주세요: '))\n",
        "\n",
        "    change= total -money #더 넣어야 할 금액\n",
        "\n",
        "    if change > 0:\n",
        "        print(f'금액이 부족합니다. {total - money} 원을 더 넣어주세요.')\n",
        "        total = change\n",
        "    elif change < 0:\n",
        "        print(f'잔돈은 {abs(change)} 원 입니다.') #money - total\n",
        "        print('커피 맛있게 드세요~~~~')\n",
        "        break\n",
        "    else: #change ==0\n",
        "        print('커피 맛있게 드세요~~~~')\n",
        "        break"
      ],
      "metadata": {
        "colab": {
          "base_uri": "https://localhost:8080/",
          "height": 805
        },
        "id": "guR4betW3sj9",
        "outputId": "051c90db-a33d-4222-f7a7-eb6c9a091e3b"
      },
      "execution_count": 46,
      "outputs": [
        {
          "output_type": "stream",
          "name": "stdout",
          "text": [
            "[커피 자동주무 머신 메뉴]\n",
            "--------------------------------\n",
            "- 아메리카노 한잔에 2500원\n",
            "- 카페라테는 한잔에 3000원\n",
            "- 카푸치노는 한잔에 3000원\n",
            "원하시는 커피 종류와 잔수를 입력하세요.\n",
            "--------------------------------\n",
            "아메리카노 몇잔: 1\n",
            "카페라테   몇잔: 1\n",
            "카푸치노   몇잔: 1\n",
            "지불할 총 금액은 8500 원 입니다.\n",
            "--------------------------------------------------\n",
            "돈을 넣어주세요: 5000\n",
            "금액이 부족합니다. 3500 원을 더 넣어주세요.\n",
            "--------------------------------------------------\n",
            "돈을 넣어주세요: 3000\n",
            "금액이 부족합니다. 500 원을 더 넣어주세요.\n",
            "--------------------------------------------------\n",
            "돈을 넣어주세요: 1000\n",
            "잔돈은 500 원 입니다.\n",
            "커피 맛있게 드세요~~~~\n",
            "--------------------------------------------------\n"
          ]
        },
        {
          "output_type": "error",
          "ename": "KeyboardInterrupt",
          "evalue": "ignored",
          "traceback": [
            "\u001b[0;31m---------------------------------------------------------------------------\u001b[0m",
            "\u001b[0;31mKeyboardInterrupt\u001b[0m                         Traceback (most recent call last)",
            "\u001b[0;32m<ipython-input-46-7cf133773a3f>\u001b[0m in \u001b[0;36m<cell line: 19>\u001b[0;34m()\u001b[0m\n\u001b[1;32m     19\u001b[0m \u001b[0;32mwhile\u001b[0m \u001b[0;32mTrue\u001b[0m\u001b[0;34m:\u001b[0m\u001b[0;34m\u001b[0m\u001b[0;34m\u001b[0m\u001b[0m\n\u001b[1;32m     20\u001b[0m     \u001b[0mprint\u001b[0m\u001b[0;34m(\u001b[0m\u001b[0;34m'-'\u001b[0m\u001b[0;34m*\u001b[0m\u001b[0;36m50\u001b[0m\u001b[0;34m)\u001b[0m\u001b[0;34m\u001b[0m\u001b[0;34m\u001b[0m\u001b[0m\n\u001b[0;32m---> 21\u001b[0;31m     \u001b[0mmoney\u001b[0m \u001b[0;34m=\u001b[0m \u001b[0mint\u001b[0m\u001b[0;34m(\u001b[0m\u001b[0minput\u001b[0m\u001b[0;34m(\u001b[0m\u001b[0;34m'돈을 넣어주세요: '\u001b[0m\u001b[0;34m)\u001b[0m\u001b[0;34m)\u001b[0m\u001b[0;34m\u001b[0m\u001b[0;34m\u001b[0m\u001b[0m\n\u001b[0m\u001b[1;32m     22\u001b[0m \u001b[0;34m\u001b[0m\u001b[0m\n\u001b[1;32m     23\u001b[0m     \u001b[0mchange\u001b[0m\u001b[0;34m=\u001b[0m \u001b[0mtotal\u001b[0m \u001b[0;34m-\u001b[0m\u001b[0mmoney\u001b[0m \u001b[0;31m#필요한 금액\u001b[0m\u001b[0;34m\u001b[0m\u001b[0;34m\u001b[0m\u001b[0m\n",
            "\u001b[0;32m/usr/local/lib/python3.10/dist-packages/ipykernel/kernelbase.py\u001b[0m in \u001b[0;36mraw_input\u001b[0;34m(self, prompt)\u001b[0m\n\u001b[1;32m    849\u001b[0m                 \u001b[0;34m\"raw_input was called, but this frontend does not support input requests.\"\u001b[0m\u001b[0;34m\u001b[0m\u001b[0;34m\u001b[0m\u001b[0m\n\u001b[1;32m    850\u001b[0m             )\n\u001b[0;32m--> 851\u001b[0;31m         return self._input_request(str(prompt),\n\u001b[0m\u001b[1;32m    852\u001b[0m             \u001b[0mself\u001b[0m\u001b[0;34m.\u001b[0m\u001b[0m_parent_ident\u001b[0m\u001b[0;34m,\u001b[0m\u001b[0;34m\u001b[0m\u001b[0;34m\u001b[0m\u001b[0m\n\u001b[1;32m    853\u001b[0m             \u001b[0mself\u001b[0m\u001b[0;34m.\u001b[0m\u001b[0m_parent_header\u001b[0m\u001b[0;34m,\u001b[0m\u001b[0;34m\u001b[0m\u001b[0;34m\u001b[0m\u001b[0m\n",
            "\u001b[0;32m/usr/local/lib/python3.10/dist-packages/ipykernel/kernelbase.py\u001b[0m in \u001b[0;36m_input_request\u001b[0;34m(self, prompt, ident, parent, password)\u001b[0m\n\u001b[1;32m    893\u001b[0m             \u001b[0;32mexcept\u001b[0m \u001b[0mKeyboardInterrupt\u001b[0m\u001b[0;34m:\u001b[0m\u001b[0;34m\u001b[0m\u001b[0;34m\u001b[0m\u001b[0m\n\u001b[1;32m    894\u001b[0m                 \u001b[0;31m# re-raise KeyboardInterrupt, to truncate traceback\u001b[0m\u001b[0;34m\u001b[0m\u001b[0;34m\u001b[0m\u001b[0m\n\u001b[0;32m--> 895\u001b[0;31m                 \u001b[0;32mraise\u001b[0m \u001b[0mKeyboardInterrupt\u001b[0m\u001b[0;34m(\u001b[0m\u001b[0;34m\"Interrupted by user\"\u001b[0m\u001b[0;34m)\u001b[0m \u001b[0;32mfrom\u001b[0m \u001b[0;32mNone\u001b[0m\u001b[0;34m\u001b[0m\u001b[0;34m\u001b[0m\u001b[0m\n\u001b[0m\u001b[1;32m    896\u001b[0m             \u001b[0;32mexcept\u001b[0m \u001b[0mException\u001b[0m \u001b[0;32mas\u001b[0m \u001b[0me\u001b[0m\u001b[0;34m:\u001b[0m\u001b[0;34m\u001b[0m\u001b[0;34m\u001b[0m\u001b[0m\n\u001b[1;32m    897\u001b[0m                 \u001b[0mself\u001b[0m\u001b[0;34m.\u001b[0m\u001b[0mlog\u001b[0m\u001b[0;34m.\u001b[0m\u001b[0mwarning\u001b[0m\u001b[0;34m(\u001b[0m\u001b[0;34m\"Invalid Message:\"\u001b[0m\u001b[0;34m,\u001b[0m \u001b[0mexc_info\u001b[0m\u001b[0;34m=\u001b[0m\u001b[0;32mTrue\u001b[0m\u001b[0;34m)\u001b[0m\u001b[0;34m\u001b[0m\u001b[0;34m\u001b[0m\u001b[0m\n",
            "\u001b[0;31mKeyboardInterrupt\u001b[0m: Interrupted by user"
          ]
        }
      ]
    },
    {
      "cell_type": "markdown",
      "source": [
        "### **[난수(Random Number)]**"
      ],
      "metadata": {
        "id": "7GhEbWbZk7E6"
      }
    },
    {
      "cell_type": "markdown",
      "source": [
        "### 실습문제 : 임의의 두 수 합 구하기\n",
        "1부터 10까지의 범위를 갖는 임의의 두 정수 a, b를 더하여 결과 출력하기"
      ],
      "metadata": {
        "id": "AKBc_UvYk7Xj"
      }
    },
    {
      "cell_type": "code",
      "source": [
        "import random\n",
        "a= random.randint(1,10)\n",
        "b= random.randint(1,10)\n",
        "print(f'{a}+{b}={a+b}')"
      ],
      "metadata": {
        "id": "C4ehMBmgk7pP",
        "colab": {
          "base_uri": "https://localhost:8080/"
        },
        "outputId": "fe14c2bf-4a14-482c-f767-e32893adc7e3"
      },
      "execution_count": 47,
      "outputs": [
        {
          "output_type": "stream",
          "name": "stdout",
          "text": [
            "9+3=12\n"
          ]
        }
      ]
    },
    {
      "cell_type": "markdown",
      "source": [
        "### 실습문제 : 던져 나온 주사위의 눈금별 횟수 카운팅\n",
        "주사위를 100번 던져서 나오는 숫자를 각 숫자별로 카운트하고 가장 많이 나온 숫자와 그 숫자의 횟수를 출력하시오."
      ],
      "metadata": {
        "id": "cMhO5aWxlOF7"
      }
    },
    {
      "cell_type": "code",
      "source": [
        "import random\n",
        "dice = [0,0,0,0,0,0]\n",
        "for i in range(100):\n",
        "    x = random.randint(1,6)\n",
        "    dice[x-1]= dice[x-1]+1\n",
        "print(f'주사위 숫자별 나온 횟수:{dice} ')\n",
        "print(f'가장 많이 나온 횟수: {max(dice)}')\n",
        "print(f'가장 많이 나온 눈금: {dice.index(max(dice))+1}')"
      ],
      "metadata": {
        "id": "XUHOX-OzlONF",
        "colab": {
          "base_uri": "https://localhost:8080/"
        },
        "outputId": "ab46f538-7551-44a0-a71f-5c3ffcd27471"
      },
      "execution_count": 52,
      "outputs": [
        {
          "output_type": "stream",
          "name": "stdout",
          "text": [
            "주사위 숫자별 나온 횟수:[19, 13, 18, 18, 15, 17] \n",
            "가장 많이 나온 횟수: 19\n",
            "가장 많이 나온 눈금: 1\n"
          ]
        }
      ]
    },
    {
      "cell_type": "markdown",
      "metadata": {
        "id": "FTX-Fvb28GGc"
      },
      "source": [
        "------"
      ]
    },
    {
      "cell_type": "markdown",
      "source": [
        "###리스트 컴프리헨션\n"
      ],
      "metadata": {
        "id": "BA4YgAhkAw8S"
      }
    },
    {
      "cell_type": "code",
      "source": [
        "# 성적 :\n",
        "score = [90, 100, 80, 99, 88]\n",
        "student_score = []\n",
        "for x in score:\n",
        "    student_score.append(f'수학 {x}점')\n",
        "print(student_score)\n"
      ],
      "metadata": {
        "id": "RctAiUFiA4ZL"
      },
      "execution_count": null,
      "outputs": []
    },
    {
      "cell_type": "code",
      "source": [
        "score = [90, 100, 80, 99, 88]\n",
        "student_score = [ f'수학 {x}점' for x in score ]\n",
        "print(student_score)"
      ],
      "metadata": {
        "id": "qWtkhIDtA3tZ"
      },
      "execution_count": null,
      "outputs": []
    },
    {
      "cell_type": "markdown",
      "metadata": {
        "id": "8tdBEUuy8GGe"
      },
      "source": [
        "### 2-3. 함수를 이용하여 알고리즘 만들기"
      ]
    },
    {
      "cell_type": "markdown",
      "metadata": {
        "id": "A50BCkk98GGe"
      },
      "source": [
        "### **[함수 & 모듈]**"
      ]
    },
    {
      "cell_type": "code",
      "execution_count": null,
      "metadata": {
        "id": "3gNw75bI8GGe"
      },
      "outputs": [],
      "source": [
        "def nSum(a, b):\n",
        "    c = a + b\n",
        "    return c\n",
        "\n",
        "nSum(50, 3)"
      ]
    },
    {
      "cell_type": "markdown",
      "source": [
        "####  함수의 구조\n",
        "매개변수와 리턴값에 따른 함수의 유형 예"
      ],
      "metadata": {
        "id": "ZH2oJDOzmgta"
      }
    },
    {
      "cell_type": "markdown",
      "source": [
        "- 매개변수(X), 리턴값(X)"
      ],
      "metadata": {
        "id": "ZVu_uCmBmwX9"
      }
    },
    {
      "cell_type": "code",
      "source": [
        "def func():\n",
        "    print('안녕하세요!')\n",
        "\n",
        "print( func() )"
      ],
      "metadata": {
        "id": "PhoFdGdpmg2i"
      },
      "execution_count": null,
      "outputs": []
    },
    {
      "cell_type": "markdown",
      "source": [
        "- 매개변수(X), 리턴값(O)"
      ],
      "metadata": {
        "id": "rYJvu1mKm1lA"
      }
    },
    {
      "cell_type": "code",
      "source": [
        "def func():\n",
        "    print('안녕하세요!')\n",
        "    return '처리완료!'\n",
        "\n",
        "print( func() )"
      ],
      "metadata": {
        "id": "RtmltcdOm1sg"
      },
      "execution_count": null,
      "outputs": []
    },
    {
      "cell_type": "markdown",
      "source": [
        "- 매개변수(O), 리턴값(X)"
      ],
      "metadata": {
        "id": "kAiXc3qom1zq"
      }
    },
    {
      "cell_type": "code",
      "source": [
        "def func(a, b):\n",
        "    print('덧셈: %d + %d = %d' % (a, b, a+b))\n",
        "\n",
        "print( func(5, 7) )"
      ],
      "metadata": {
        "id": "mdneVBp_m16L"
      },
      "execution_count": null,
      "outputs": []
    },
    {
      "cell_type": "markdown",
      "source": [
        "- 매개변수(O), 리턴값(O)"
      ],
      "metadata": {
        "id": "UWx5mc2Bm2Ah"
      }
    },
    {
      "cell_type": "code",
      "source": [
        "def func(a, b):\n",
        "    print('덧셈: %d + %d = %d' % (a, b, a+b))\n",
        "    return a+b\n",
        "\n",
        "print( func(5, 7) )"
      ],
      "metadata": {
        "id": "u40Eqnc1m2IB"
      },
      "execution_count": null,
      "outputs": []
    },
    {
      "cell_type": "markdown",
      "source": [
        "### 실습문제 : 암스트롱수 구하기\n",
        "다음 조건을 참고하여 암스트롱수를 구하는 함수를 만들어 출력하는 프로그램을 만들어 보세요.\n",
        "- **암스트롱수** : 세 자리의 정수 중에서 각 자리의 수를 세 제곱한 수의 합과 자신이 같은 수"
      ],
      "metadata": {
        "id": "Oq6XLdiqm9lV"
      }
    },
    {
      "cell_type": "code",
      "source": [
        "def is_armstrongNumber(N):\n",
        "    N100= N//100 #백의자리수\n",
        "    N10= N-(N100*100)//10\n",
        "    N1 = N-(N100*100-N10*10)\n",
        "    #print(f'{N100}{N10}{N1}')\n",
        "    if N == (N100**3+ N10**3+ N1**3):\n",
        "        return True\n",
        "    else:\n",
        "        return False\n",
        "\n",
        "\n",
        "for i in range(100,1000):\n",
        "    if is_armstrongNumber(i):\n",
        "        print('[%i] is armstrongNumber')\n"
      ],
      "metadata": {
        "id": "DvFLshFqm9t8"
      },
      "execution_count": 59,
      "outputs": []
    },
    {
      "cell_type": "code",
      "source": [
        "# 암스트롱수 구하기 : 방법2\n",
        "def is_armstringNumber(N):\n",
        "    N100 = int(str(N)[0])     # 100의 자리수\n",
        "    N10  = int(str(N)[1])     # 10의 자리수\n",
        "    N1   = int(str(N)[2])     # 1의 자리수\n",
        "    # print(f'{N100} {N10} {N1}')\n",
        "    if N == (N100**3 + N10**3 + N1**3):\n",
        "        return True\n",
        "    else:\n",
        "        return False"
      ],
      "metadata": {
        "id": "bl7u0cECJwkT"
      },
      "execution_count": null,
      "outputs": []
    },
    {
      "cell_type": "code",
      "source": [
        "def is_arm(N):\n",
        "\n",
        "\n",
        "\n",
        "\n",
        "for i range(100,1000):\n",
        "    if is_arm(i):\n",
        "        print('[%i] is armstrongNumber')\n"
      ],
      "metadata": {
        "colab": {
          "base_uri": "https://localhost:8080/",
          "height": 146
        },
        "id": "PNlEOJL4GW6g",
        "outputId": "39132dfd-ac35-473e-c23c-3861de163f02"
      },
      "execution_count": 53,
      "outputs": [
        {
          "output_type": "error",
          "ename": "SyntaxError",
          "evalue": "ignored",
          "traceback": [
            "\u001b[0;36m  File \u001b[0;32m\"<ipython-input-53-d4f55bab0981>\"\u001b[0;36m, line \u001b[0;32m1\u001b[0m\n\u001b[0;31m    def is_a(N):\u001b[0m\n\u001b[0m                ^\u001b[0m\n\u001b[0;31mSyntaxError\u001b[0m\u001b[0;31m:\u001b[0m incomplete input\n"
          ]
        }
      ]
    },
    {
      "cell_type": "markdown",
      "metadata": {
        "id": "Kvzu_J_a8GGf"
      },
      "source": [
        "#### 실습문제\n",
        "아래 조건을 만족하는 커피 자동주문 머신을 만들어보세요."
      ]
    },
    {
      "cell_type": "code",
      "execution_count": null,
      "metadata": {
        "scrolled": true,
        "id": "x1jdgfzq8GGf"
      },
      "outputs": [],
      "source": [
        "def coffeeMachine(coffee1, coffee2, coffee3):\n",
        "\n",
        "\n",
        "\n",
        "\n",
        "menu = '''[커피 자동주문 머신 메뉴]\n",
        "------------------------------\n",
        "-아메리카노는 2500원\n",
        "-카레라떼는 3000원\n",
        "-카푸치노는 3000원\n",
        "입니다. 원하시는 커피종류와 잔수를 입력하세요.\n",
        "------------------------------'''\n",
        "print(menu)\n",
        "coffee1 = int(input(\"아메리카노 몇잔?: \"))\n",
        "coffee2 = int(input(\"카페라떼 몇잔?: \"))\n",
        "coffee3 = int(input(\"카푸치노 몇잔?: \"))\n",
        "\n",
        "coffeeMachine(coffee1, coffee2, coffee3)"
      ]
    },
    {
      "cell_type": "markdown",
      "metadata": {
        "id": "Ajjvg18_8GGg"
      },
      "source": [
        "### 2-4. [미션] 응용 프로그램 만들기"
      ]
    },
    {
      "cell_type": "markdown",
      "metadata": {
        "id": "06eDtoTC8GGf"
      },
      "source": [
        "#### 실습문제\n",
        "아래 조건을 만족시키는 <영어단어장 만들기> 프로그램을 만들어 보세요.\n",
        "\n",
        "영단어는 key, 그의 뜻은 value 로 두는 dictionary 를 만드세요.<br>\n",
        "<메뉴>\n",
        " - 1. 단어 등록\n",
        " - 2. 단어 검색\n",
        " - 3. 단어 삭제\n",
        " - 4. 모든 단어 보기\n",
        " - 0. 종료하기\n",
        "\n",
        "1. 단어 등록 <br>\n",
        "    새 영단어와 그의 뜻을 입력 받고 dictionary 에 추가합니다.\n",
        "\n",
        "2. 단어 검색<br>\n",
        "    영단어를 입력 받아 그의 뜻을 출력합니다.<br>\n",
        "    미등록된 단어인 경우 '미등록 단어'를 출력합니다.\n",
        "    \n",
        "3. 단어 삭제<br>\n",
        "    영단어를 입력 받아 단어장에서 해당 단어를 삭제한다.<br>\n",
        "    미등록된 단어인 경우 '미등록 단어'를 출력합니다\n",
        "    \n",
        "4. 모든 단어 보기<br>\n",
        "    현재 등록되어 있는 모든 단어와 뜻을 출력합니다.\n",
        "\n",
        "0. 종료하기"
      ]
    },
    {
      "cell_type": "code",
      "execution_count": null,
      "metadata": {
        "id": "zEbKEifR8GGf"
      },
      "outputs": [],
      "source": [
        "\n"
      ]
    },
    {
      "cell_type": "markdown",
      "source": [
        "\n",
        "\n",
        "---\n",
        "THE END\n",
        "\n"
      ],
      "metadata": {
        "id": "SD7IuCtyEfxZ"
      }
    },
    {
      "cell_type": "markdown",
      "metadata": {
        "id": "RQoDVEJ38GGg"
      },
      "source": [
        "------"
      ]
    }
  ],
  "metadata": {
    "kernelspec": {
      "display_name": "Python 3",
      "language": "python",
      "name": "python3"
    },
    "language_info": {
      "codemirror_mode": {
        "name": "ipython",
        "version": 3
      },
      "file_extension": ".py",
      "mimetype": "text/x-python",
      "name": "python",
      "nbconvert_exporter": "python",
      "pygments_lexer": "ipython3",
      "version": "3.9.10"
    },
    "colab": {
      "provenance": [],
      "toc_visible": true,
      "include_colab_link": true
    }
  },
  "nbformat": 4,
  "nbformat_minor": 0
}